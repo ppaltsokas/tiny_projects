{
 "cells": [
  {
   "cell_type": "markdown",
   "metadata": {
    "id": "gltiGJhvrzaL"
   },
   "source": [
    "# Introduction\n",
    "\n",
    "Do higher film budgets lead to more box office revenue? Let's find out if there's a relationship using the movie budgets and financial performance data that I've scraped from [the-numbers.com](https://www.the-numbers.com/movie/budgets) on **May 1st, 2018**. \n",
    "\n",
    "<img src=https://i.imgur.com/kq7hrEh.png>"
   ]
  },
  {
   "cell_type": "markdown",
   "metadata": {
    "id": "zkLrvlKvtdih"
   },
   "source": [
    "# Import Statements"
   ]
  },
  {
   "cell_type": "code",
   "execution_count": 88,
   "metadata": {
    "id": "NpDk_q_Urroj"
   },
   "outputs": [],
   "source": [
    "import pandas as pd\n",
    "import matplotlib.pyplot as plt\n"
   ]
  },
  {
   "cell_type": "markdown",
   "metadata": {
    "id": "x5B-UDvXtnC6"
   },
   "source": [
    "# Notebook Presentation"
   ]
  },
  {
   "cell_type": "code",
   "execution_count": 89,
   "metadata": {
    "id": "nM_otvWztjpT"
   },
   "outputs": [],
   "source": [
    "pd.options.display.float_format = '{:,.2f}'.format\n",
    "\n",
    "from pandas.plotting import register_matplotlib_converters\n",
    "register_matplotlib_converters()"
   ]
  },
  {
   "cell_type": "markdown",
   "metadata": {
    "id": "v-fnwNYJtthe"
   },
   "source": [
    "# Read the Data"
   ]
  },
  {
   "cell_type": "code",
   "execution_count": 90,
   "metadata": {
    "id": "xhwvQQWitrf4"
   },
   "outputs": [],
   "source": [
    "data = pd.read_csv('cost_revenue_dirty.csv')"
   ]
  },
  {
   "cell_type": "markdown",
   "metadata": {
    "id": "tbg8_J5SuHhs"
   },
   "source": [
    "# Explore and Clean the Data"
   ]
  },
  {
   "cell_type": "markdown",
   "metadata": {
    "id": "xAtdcURCuL0Z"
   },
   "source": [
    "**Challenge**: Answer these questions about the dataset:\n",
    "1. How many rows and columns does the dataset contain?\n",
    "2. Are there any NaN values present?\n",
    "3. Are there any duplicate rows?\n",
    "4. What are the data types of the columns?"
   ]
  },
  {
   "cell_type": "code",
   "execution_count": 91,
   "metadata": {},
   "outputs": [
    {
     "data": {
      "text/html": [
       "<div>\n",
       "<style scoped>\n",
       "    .dataframe tbody tr th:only-of-type {\n",
       "        vertical-align: middle;\n",
       "    }\n",
       "\n",
       "    .dataframe tbody tr th {\n",
       "        vertical-align: top;\n",
       "    }\n",
       "\n",
       "    .dataframe thead th {\n",
       "        text-align: right;\n",
       "    }\n",
       "</style>\n",
       "<table border=\"1\" class=\"dataframe\">\n",
       "  <thead>\n",
       "    <tr style=\"text-align: right;\">\n",
       "      <th></th>\n",
       "      <th>Rank</th>\n",
       "      <th>Release_Date</th>\n",
       "      <th>Movie_Title</th>\n",
       "      <th>USD_Production_Budget</th>\n",
       "      <th>USD_Worldwide_Gross</th>\n",
       "      <th>USD_Domestic_Gross</th>\n",
       "    </tr>\n",
       "  </thead>\n",
       "  <tbody>\n",
       "    <tr>\n",
       "      <th>0</th>\n",
       "      <td>5293</td>\n",
       "      <td>8/2/1915</td>\n",
       "      <td>The Birth of a Nation</td>\n",
       "      <td>$110,000</td>\n",
       "      <td>$11,000,000</td>\n",
       "      <td>$10,000,000</td>\n",
       "    </tr>\n",
       "    <tr>\n",
       "      <th>1</th>\n",
       "      <td>5140</td>\n",
       "      <td>5/9/1916</td>\n",
       "      <td>Intolerance</td>\n",
       "      <td>$385,907</td>\n",
       "      <td>$0</td>\n",
       "      <td>$0</td>\n",
       "    </tr>\n",
       "    <tr>\n",
       "      <th>2</th>\n",
       "      <td>5230</td>\n",
       "      <td>12/24/1916</td>\n",
       "      <td>20,000 Leagues Under the Sea</td>\n",
       "      <td>$200,000</td>\n",
       "      <td>$8,000,000</td>\n",
       "      <td>$8,000,000</td>\n",
       "    </tr>\n",
       "    <tr>\n",
       "      <th>3</th>\n",
       "      <td>5299</td>\n",
       "      <td>9/17/1920</td>\n",
       "      <td>Over the Hill to the Poorhouse</td>\n",
       "      <td>$100,000</td>\n",
       "      <td>$3,000,000</td>\n",
       "      <td>$3,000,000</td>\n",
       "    </tr>\n",
       "    <tr>\n",
       "      <th>4</th>\n",
       "      <td>5222</td>\n",
       "      <td>1/1/1925</td>\n",
       "      <td>The Big Parade</td>\n",
       "      <td>$245,000</td>\n",
       "      <td>$22,000,000</td>\n",
       "      <td>$11,000,000</td>\n",
       "    </tr>\n",
       "    <tr>\n",
       "      <th>...</th>\n",
       "      <td>...</td>\n",
       "      <td>...</td>\n",
       "      <td>...</td>\n",
       "      <td>...</td>\n",
       "      <td>...</td>\n",
       "      <td>...</td>\n",
       "    </tr>\n",
       "    <tr>\n",
       "      <th>5386</th>\n",
       "      <td>2950</td>\n",
       "      <td>10/8/2018</td>\n",
       "      <td>Meg</td>\n",
       "      <td>$15,000,000</td>\n",
       "      <td>$0</td>\n",
       "      <td>$0</td>\n",
       "    </tr>\n",
       "    <tr>\n",
       "      <th>5387</th>\n",
       "      <td>126</td>\n",
       "      <td>12/18/2018</td>\n",
       "      <td>Aquaman</td>\n",
       "      <td>$160,000,000</td>\n",
       "      <td>$0</td>\n",
       "      <td>$0</td>\n",
       "    </tr>\n",
       "    <tr>\n",
       "      <th>5388</th>\n",
       "      <td>96</td>\n",
       "      <td>12/31/2020</td>\n",
       "      <td>Singularity</td>\n",
       "      <td>$175,000,000</td>\n",
       "      <td>$0</td>\n",
       "      <td>$0</td>\n",
       "    </tr>\n",
       "    <tr>\n",
       "      <th>5389</th>\n",
       "      <td>1119</td>\n",
       "      <td>12/31/2020</td>\n",
       "      <td>Hannibal the Conqueror</td>\n",
       "      <td>$50,000,000</td>\n",
       "      <td>$0</td>\n",
       "      <td>$0</td>\n",
       "    </tr>\n",
       "    <tr>\n",
       "      <th>5390</th>\n",
       "      <td>2517</td>\n",
       "      <td>12/31/2020</td>\n",
       "      <td>Story of Bonnie and Clyde, The</td>\n",
       "      <td>$20,000,000</td>\n",
       "      <td>$0</td>\n",
       "      <td>$0</td>\n",
       "    </tr>\n",
       "  </tbody>\n",
       "</table>\n",
       "<p>5391 rows × 6 columns</p>\n",
       "</div>"
      ],
      "text/plain": [
       "      Rank Release_Date                     Movie_Title USD_Production_Budget  \\\n",
       "0     5293     8/2/1915           The Birth of a Nation              $110,000   \n",
       "1     5140     5/9/1916                     Intolerance              $385,907   \n",
       "2     5230   12/24/1916    20,000 Leagues Under the Sea              $200,000   \n",
       "3     5299    9/17/1920  Over the Hill to the Poorhouse              $100,000   \n",
       "4     5222     1/1/1925                  The Big Parade              $245,000   \n",
       "...    ...          ...                             ...                   ...   \n",
       "5386  2950    10/8/2018                             Meg           $15,000,000   \n",
       "5387   126   12/18/2018                         Aquaman          $160,000,000   \n",
       "5388    96   12/31/2020                     Singularity          $175,000,000   \n",
       "5389  1119   12/31/2020          Hannibal the Conqueror           $50,000,000   \n",
       "5390  2517   12/31/2020  Story of Bonnie and Clyde, The           $20,000,000   \n",
       "\n",
       "     USD_Worldwide_Gross USD_Domestic_Gross  \n",
       "0            $11,000,000        $10,000,000  \n",
       "1                     $0                 $0  \n",
       "2             $8,000,000         $8,000,000  \n",
       "3             $3,000,000         $3,000,000  \n",
       "4            $22,000,000        $11,000,000  \n",
       "...                  ...                ...  \n",
       "5386                  $0                 $0  \n",
       "5387                  $0                 $0  \n",
       "5388                  $0                 $0  \n",
       "5389                  $0                 $0  \n",
       "5390                  $0                 $0  \n",
       "\n",
       "[5391 rows x 6 columns]"
      ]
     },
     "execution_count": 91,
     "metadata": {},
     "output_type": "execute_result"
    }
   ],
   "source": [
    "data"
   ]
  },
  {
   "cell_type": "markdown",
   "metadata": {},
   "source": [
    "## How many rows and columns does the dataset contain?"
   ]
  },
  {
   "cell_type": "code",
   "execution_count": 92,
   "metadata": {},
   "outputs": [
    {
     "data": {
      "text/plain": [
       "(5391, 6)"
      ]
     },
     "execution_count": 92,
     "metadata": {},
     "output_type": "execute_result"
    }
   ],
   "source": [
    "data.shape"
   ]
  },
  {
   "cell_type": "markdown",
   "metadata": {},
   "source": [
    "## Are there any NaN values present?"
   ]
  },
  {
   "cell_type": "code",
   "execution_count": 93,
   "metadata": {
    "id": "PV3KLBSVTMDN"
   },
   "outputs": [
    {
     "data": {
      "text/plain": [
       "False"
      ]
     },
     "execution_count": 93,
     "metadata": {},
     "output_type": "execute_result"
    }
   ],
   "source": [
    "data.isna().values.any()"
   ]
  },
  {
   "cell_type": "markdown",
   "metadata": {},
   "source": [
    "## Are there any duplicate rows?"
   ]
  },
  {
   "cell_type": "code",
   "execution_count": 94,
   "metadata": {},
   "outputs": [
    {
     "data": {
      "text/plain": [
       "False"
      ]
     },
     "execution_count": 94,
     "metadata": {},
     "output_type": "execute_result"
    }
   ],
   "source": [
    "data.duplicated().any()  #will return True id there are duplicates"
   ]
  },
  {
   "cell_type": "code",
   "execution_count": 95,
   "metadata": {},
   "outputs": [
    {
     "data": {
      "text/html": [
       "<div>\n",
       "<style scoped>\n",
       "    .dataframe tbody tr th:only-of-type {\n",
       "        vertical-align: middle;\n",
       "    }\n",
       "\n",
       "    .dataframe tbody tr th {\n",
       "        vertical-align: top;\n",
       "    }\n",
       "\n",
       "    .dataframe thead th {\n",
       "        text-align: right;\n",
       "    }\n",
       "</style>\n",
       "<table border=\"1\" class=\"dataframe\">\n",
       "  <thead>\n",
       "    <tr style=\"text-align: right;\">\n",
       "      <th></th>\n",
       "      <th>Rank</th>\n",
       "      <th>Release_Date</th>\n",
       "      <th>Movie_Title</th>\n",
       "      <th>USD_Production_Budget</th>\n",
       "      <th>USD_Worldwide_Gross</th>\n",
       "      <th>USD_Domestic_Gross</th>\n",
       "    </tr>\n",
       "  </thead>\n",
       "  <tbody>\n",
       "  </tbody>\n",
       "</table>\n",
       "</div>"
      ],
      "text/plain": [
       "Empty DataFrame\n",
       "Columns: [Rank, Release_Date, Movie_Title, USD_Production_Budget, USD_Worldwide_Gross, USD_Domestic_Gross]\n",
       "Index: []"
      ]
     },
     "execution_count": 95,
     "metadata": {},
     "output_type": "execute_result"
    }
   ],
   "source": [
    "data[data.duplicated()] #show the duplicated rows"
   ]
  },
  {
   "cell_type": "markdown",
   "metadata": {},
   "source": [
    "## What are the data types of the columns?"
   ]
  },
  {
   "cell_type": "code",
   "execution_count": 96,
   "metadata": {},
   "outputs": [
    {
     "name": "stdout",
     "output_type": "stream",
     "text": [
      "<class 'pandas.core.frame.DataFrame'>\n",
      "RangeIndex: 5391 entries, 0 to 5390\n",
      "Data columns (total 6 columns):\n",
      " #   Column                 Non-Null Count  Dtype \n",
      "---  ------                 --------------  ----- \n",
      " 0   Rank                   5391 non-null   int64 \n",
      " 1   Release_Date           5391 non-null   object\n",
      " 2   Movie_Title            5391 non-null   object\n",
      " 3   USD_Production_Budget  5391 non-null   object\n",
      " 4   USD_Worldwide_Gross    5391 non-null   object\n",
      " 5   USD_Domestic_Gross     5391 non-null   object\n",
      "dtypes: int64(1), object(5)\n",
      "memory usage: 252.8+ KB\n"
     ]
    }
   ],
   "source": [
    "data.info()"
   ]
  },
  {
   "cell_type": "markdown",
   "metadata": {
    "id": "v8spadDNvpVG"
   },
   "source": [
    "### Data Type Conversions"
   ]
  },
  {
   "cell_type": "markdown",
   "metadata": {
    "id": "9F8KFST4ulrd"
   },
   "source": [
    "**Challenge**: Convert the `USD_Production_Budget`, `USD_Worldwide_Gross`, and `USD_Domestic_Gross` columns to a numeric format by removing `$` signs and `,`. \n",
    "<br>\n",
    "<br>\n",
    "Note that *domestic* in this context refers to the United States."
   ]
  },
  {
   "cell_type": "code",
   "execution_count": 97,
   "metadata": {
    "id": "BmdCbLf-TPXk"
   },
   "outputs": [],
   "source": [
    "data.USD_Domestic_Gross = data.USD_Domestic_Gross.astype(str).str.replace('$', \"\")"
   ]
  },
  {
   "cell_type": "code",
   "execution_count": 98,
   "metadata": {},
   "outputs": [],
   "source": [
    "data.USD_Domestic_Gross = data.USD_Domestic_Gross.astype(str).str.replace(',', \"\")"
   ]
  },
  {
   "cell_type": "code",
   "execution_count": 99,
   "metadata": {},
   "outputs": [],
   "source": [
    "data.USD_Domestic_Gross = pd.to_numeric(data.USD_Domestic_Gross)"
   ]
  },
  {
   "cell_type": "code",
   "execution_count": 100,
   "metadata": {},
   "outputs": [],
   "source": [
    "data.USD_Worldwide_Gross = data.USD_Worldwide_Gross.astype(str).str.replace('$', \"\")"
   ]
  },
  {
   "cell_type": "code",
   "execution_count": 101,
   "metadata": {},
   "outputs": [],
   "source": [
    "data.USD_Worldwide_Gross = data.USD_Worldwide_Gross.astype(str).str.replace(',', \"\")"
   ]
  },
  {
   "cell_type": "code",
   "execution_count": 102,
   "metadata": {},
   "outputs": [],
   "source": [
    "data.USD_Worldwide_Gross = pd.to_numeric(data.USD_Worldwide_Gross)"
   ]
  },
  {
   "cell_type": "code",
   "execution_count": 103,
   "metadata": {},
   "outputs": [],
   "source": [
    "data.USD_Production_Budget = data.USD_Production_Budget.astype(str).str.replace('$', \"\")"
   ]
  },
  {
   "cell_type": "code",
   "execution_count": 104,
   "metadata": {},
   "outputs": [],
   "source": [
    "data.USD_Production_Budget = data.USD_Production_Budget.astype(str).str.replace(',', \"\")"
   ]
  },
  {
   "cell_type": "code",
   "execution_count": 105,
   "metadata": {},
   "outputs": [],
   "source": [
    "data.USD_Production_Budget = pd.to_numeric(data.USD_Production_Budget)"
   ]
  },
  {
   "cell_type": "code",
   "execution_count": 106,
   "metadata": {},
   "outputs": [
    {
     "data": {
      "text/html": [
       "<div>\n",
       "<style scoped>\n",
       "    .dataframe tbody tr th:only-of-type {\n",
       "        vertical-align: middle;\n",
       "    }\n",
       "\n",
       "    .dataframe tbody tr th {\n",
       "        vertical-align: top;\n",
       "    }\n",
       "\n",
       "    .dataframe thead th {\n",
       "        text-align: right;\n",
       "    }\n",
       "</style>\n",
       "<table border=\"1\" class=\"dataframe\">\n",
       "  <thead>\n",
       "    <tr style=\"text-align: right;\">\n",
       "      <th></th>\n",
       "      <th>Rank</th>\n",
       "      <th>Release_Date</th>\n",
       "      <th>Movie_Title</th>\n",
       "      <th>USD_Production_Budget</th>\n",
       "      <th>USD_Worldwide_Gross</th>\n",
       "      <th>USD_Domestic_Gross</th>\n",
       "    </tr>\n",
       "  </thead>\n",
       "  <tbody>\n",
       "    <tr>\n",
       "      <th>0</th>\n",
       "      <td>5293</td>\n",
       "      <td>8/2/1915</td>\n",
       "      <td>The Birth of a Nation</td>\n",
       "      <td>110000</td>\n",
       "      <td>11000000</td>\n",
       "      <td>10000000</td>\n",
       "    </tr>\n",
       "    <tr>\n",
       "      <th>1</th>\n",
       "      <td>5140</td>\n",
       "      <td>5/9/1916</td>\n",
       "      <td>Intolerance</td>\n",
       "      <td>385907</td>\n",
       "      <td>0</td>\n",
       "      <td>0</td>\n",
       "    </tr>\n",
       "    <tr>\n",
       "      <th>2</th>\n",
       "      <td>5230</td>\n",
       "      <td>12/24/1916</td>\n",
       "      <td>20,000 Leagues Under the Sea</td>\n",
       "      <td>200000</td>\n",
       "      <td>8000000</td>\n",
       "      <td>8000000</td>\n",
       "    </tr>\n",
       "    <tr>\n",
       "      <th>3</th>\n",
       "      <td>5299</td>\n",
       "      <td>9/17/1920</td>\n",
       "      <td>Over the Hill to the Poorhouse</td>\n",
       "      <td>100000</td>\n",
       "      <td>3000000</td>\n",
       "      <td>3000000</td>\n",
       "    </tr>\n",
       "    <tr>\n",
       "      <th>4</th>\n",
       "      <td>5222</td>\n",
       "      <td>1/1/1925</td>\n",
       "      <td>The Big Parade</td>\n",
       "      <td>245000</td>\n",
       "      <td>22000000</td>\n",
       "      <td>11000000</td>\n",
       "    </tr>\n",
       "    <tr>\n",
       "      <th>...</th>\n",
       "      <td>...</td>\n",
       "      <td>...</td>\n",
       "      <td>...</td>\n",
       "      <td>...</td>\n",
       "      <td>...</td>\n",
       "      <td>...</td>\n",
       "    </tr>\n",
       "    <tr>\n",
       "      <th>5386</th>\n",
       "      <td>2950</td>\n",
       "      <td>10/8/2018</td>\n",
       "      <td>Meg</td>\n",
       "      <td>15000000</td>\n",
       "      <td>0</td>\n",
       "      <td>0</td>\n",
       "    </tr>\n",
       "    <tr>\n",
       "      <th>5387</th>\n",
       "      <td>126</td>\n",
       "      <td>12/18/2018</td>\n",
       "      <td>Aquaman</td>\n",
       "      <td>160000000</td>\n",
       "      <td>0</td>\n",
       "      <td>0</td>\n",
       "    </tr>\n",
       "    <tr>\n",
       "      <th>5388</th>\n",
       "      <td>96</td>\n",
       "      <td>12/31/2020</td>\n",
       "      <td>Singularity</td>\n",
       "      <td>175000000</td>\n",
       "      <td>0</td>\n",
       "      <td>0</td>\n",
       "    </tr>\n",
       "    <tr>\n",
       "      <th>5389</th>\n",
       "      <td>1119</td>\n",
       "      <td>12/31/2020</td>\n",
       "      <td>Hannibal the Conqueror</td>\n",
       "      <td>50000000</td>\n",
       "      <td>0</td>\n",
       "      <td>0</td>\n",
       "    </tr>\n",
       "    <tr>\n",
       "      <th>5390</th>\n",
       "      <td>2517</td>\n",
       "      <td>12/31/2020</td>\n",
       "      <td>Story of Bonnie and Clyde, The</td>\n",
       "      <td>20000000</td>\n",
       "      <td>0</td>\n",
       "      <td>0</td>\n",
       "    </tr>\n",
       "  </tbody>\n",
       "</table>\n",
       "<p>5391 rows × 6 columns</p>\n",
       "</div>"
      ],
      "text/plain": [
       "      Rank Release_Date                     Movie_Title  \\\n",
       "0     5293     8/2/1915           The Birth of a Nation   \n",
       "1     5140     5/9/1916                     Intolerance   \n",
       "2     5230   12/24/1916    20,000 Leagues Under the Sea   \n",
       "3     5299    9/17/1920  Over the Hill to the Poorhouse   \n",
       "4     5222     1/1/1925                  The Big Parade   \n",
       "...    ...          ...                             ...   \n",
       "5386  2950    10/8/2018                             Meg   \n",
       "5387   126   12/18/2018                         Aquaman   \n",
       "5388    96   12/31/2020                     Singularity   \n",
       "5389  1119   12/31/2020          Hannibal the Conqueror   \n",
       "5390  2517   12/31/2020  Story of Bonnie and Clyde, The   \n",
       "\n",
       "      USD_Production_Budget  USD_Worldwide_Gross  USD_Domestic_Gross  \n",
       "0                    110000             11000000            10000000  \n",
       "1                    385907                    0                   0  \n",
       "2                    200000              8000000             8000000  \n",
       "3                    100000              3000000             3000000  \n",
       "4                    245000             22000000            11000000  \n",
       "...                     ...                  ...                 ...  \n",
       "5386               15000000                    0                   0  \n",
       "5387              160000000                    0                   0  \n",
       "5388              175000000                    0                   0  \n",
       "5389               50000000                    0                   0  \n",
       "5390               20000000                    0                   0  \n",
       "\n",
       "[5391 rows x 6 columns]"
      ]
     },
     "execution_count": 106,
     "metadata": {},
     "output_type": "execute_result"
    }
   ],
   "source": [
    "data"
   ]
  },
  {
   "cell_type": "markdown",
   "metadata": {},
   "source": [
    "# Με τον δικό της τρόπο"
   ]
  },
  {
   "cell_type": "code",
   "execution_count": 107,
   "metadata": {},
   "outputs": [],
   "source": [
    "chars_to_remove = [',', '$']\n",
    "columns_to_clean = ['USD_Production_Budget', \n",
    "                    'USD_Worldwide_Gross',\n",
    "                    'USD_Domestic_Gross']\n",
    " \n",
    "for col in columns_to_clean:\n",
    "    for char in chars_to_remove:\n",
    "        # Replace each character with an empty string\n",
    "        data[col] = data[col].astype(str).str.replace(char, \"\")\n",
    "    # Convert column to a numeric data type\n",
    "    data[col] = pd.to_numeric(data[col])"
   ]
  },
  {
   "cell_type": "code",
   "execution_count": 108,
   "metadata": {},
   "outputs": [
    {
     "data": {
      "text/html": [
       "<div>\n",
       "<style scoped>\n",
       "    .dataframe tbody tr th:only-of-type {\n",
       "        vertical-align: middle;\n",
       "    }\n",
       "\n",
       "    .dataframe tbody tr th {\n",
       "        vertical-align: top;\n",
       "    }\n",
       "\n",
       "    .dataframe thead th {\n",
       "        text-align: right;\n",
       "    }\n",
       "</style>\n",
       "<table border=\"1\" class=\"dataframe\">\n",
       "  <thead>\n",
       "    <tr style=\"text-align: right;\">\n",
       "      <th></th>\n",
       "      <th>Rank</th>\n",
       "      <th>Release_Date</th>\n",
       "      <th>Movie_Title</th>\n",
       "      <th>USD_Production_Budget</th>\n",
       "      <th>USD_Worldwide_Gross</th>\n",
       "      <th>USD_Domestic_Gross</th>\n",
       "    </tr>\n",
       "  </thead>\n",
       "  <tbody>\n",
       "    <tr>\n",
       "      <th>0</th>\n",
       "      <td>5293</td>\n",
       "      <td>8/2/1915</td>\n",
       "      <td>The Birth of a Nation</td>\n",
       "      <td>110000</td>\n",
       "      <td>11000000</td>\n",
       "      <td>10000000</td>\n",
       "    </tr>\n",
       "    <tr>\n",
       "      <th>1</th>\n",
       "      <td>5140</td>\n",
       "      <td>5/9/1916</td>\n",
       "      <td>Intolerance</td>\n",
       "      <td>385907</td>\n",
       "      <td>0</td>\n",
       "      <td>0</td>\n",
       "    </tr>\n",
       "    <tr>\n",
       "      <th>2</th>\n",
       "      <td>5230</td>\n",
       "      <td>12/24/1916</td>\n",
       "      <td>20,000 Leagues Under the Sea</td>\n",
       "      <td>200000</td>\n",
       "      <td>8000000</td>\n",
       "      <td>8000000</td>\n",
       "    </tr>\n",
       "    <tr>\n",
       "      <th>3</th>\n",
       "      <td>5299</td>\n",
       "      <td>9/17/1920</td>\n",
       "      <td>Over the Hill to the Poorhouse</td>\n",
       "      <td>100000</td>\n",
       "      <td>3000000</td>\n",
       "      <td>3000000</td>\n",
       "    </tr>\n",
       "    <tr>\n",
       "      <th>4</th>\n",
       "      <td>5222</td>\n",
       "      <td>1/1/1925</td>\n",
       "      <td>The Big Parade</td>\n",
       "      <td>245000</td>\n",
       "      <td>22000000</td>\n",
       "      <td>11000000</td>\n",
       "    </tr>\n",
       "    <tr>\n",
       "      <th>...</th>\n",
       "      <td>...</td>\n",
       "      <td>...</td>\n",
       "      <td>...</td>\n",
       "      <td>...</td>\n",
       "      <td>...</td>\n",
       "      <td>...</td>\n",
       "    </tr>\n",
       "    <tr>\n",
       "      <th>5386</th>\n",
       "      <td>2950</td>\n",
       "      <td>10/8/2018</td>\n",
       "      <td>Meg</td>\n",
       "      <td>15000000</td>\n",
       "      <td>0</td>\n",
       "      <td>0</td>\n",
       "    </tr>\n",
       "    <tr>\n",
       "      <th>5387</th>\n",
       "      <td>126</td>\n",
       "      <td>12/18/2018</td>\n",
       "      <td>Aquaman</td>\n",
       "      <td>160000000</td>\n",
       "      <td>0</td>\n",
       "      <td>0</td>\n",
       "    </tr>\n",
       "    <tr>\n",
       "      <th>5388</th>\n",
       "      <td>96</td>\n",
       "      <td>12/31/2020</td>\n",
       "      <td>Singularity</td>\n",
       "      <td>175000000</td>\n",
       "      <td>0</td>\n",
       "      <td>0</td>\n",
       "    </tr>\n",
       "    <tr>\n",
       "      <th>5389</th>\n",
       "      <td>1119</td>\n",
       "      <td>12/31/2020</td>\n",
       "      <td>Hannibal the Conqueror</td>\n",
       "      <td>50000000</td>\n",
       "      <td>0</td>\n",
       "      <td>0</td>\n",
       "    </tr>\n",
       "    <tr>\n",
       "      <th>5390</th>\n",
       "      <td>2517</td>\n",
       "      <td>12/31/2020</td>\n",
       "      <td>Story of Bonnie and Clyde, The</td>\n",
       "      <td>20000000</td>\n",
       "      <td>0</td>\n",
       "      <td>0</td>\n",
       "    </tr>\n",
       "  </tbody>\n",
       "</table>\n",
       "<p>5391 rows × 6 columns</p>\n",
       "</div>"
      ],
      "text/plain": [
       "      Rank Release_Date                     Movie_Title  \\\n",
       "0     5293     8/2/1915           The Birth of a Nation   \n",
       "1     5140     5/9/1916                     Intolerance   \n",
       "2     5230   12/24/1916    20,000 Leagues Under the Sea   \n",
       "3     5299    9/17/1920  Over the Hill to the Poorhouse   \n",
       "4     5222     1/1/1925                  The Big Parade   \n",
       "...    ...          ...                             ...   \n",
       "5386  2950    10/8/2018                             Meg   \n",
       "5387   126   12/18/2018                         Aquaman   \n",
       "5388    96   12/31/2020                     Singularity   \n",
       "5389  1119   12/31/2020          Hannibal the Conqueror   \n",
       "5390  2517   12/31/2020  Story of Bonnie and Clyde, The   \n",
       "\n",
       "      USD_Production_Budget  USD_Worldwide_Gross  USD_Domestic_Gross  \n",
       "0                    110000             11000000            10000000  \n",
       "1                    385907                    0                   0  \n",
       "2                    200000              8000000             8000000  \n",
       "3                    100000              3000000             3000000  \n",
       "4                    245000             22000000            11000000  \n",
       "...                     ...                  ...                 ...  \n",
       "5386               15000000                    0                   0  \n",
       "5387              160000000                    0                   0  \n",
       "5388              175000000                    0                   0  \n",
       "5389               50000000                    0                   0  \n",
       "5390               20000000                    0                   0  \n",
       "\n",
       "[5391 rows x 6 columns]"
      ]
     },
     "execution_count": 108,
     "metadata": {},
     "output_type": "execute_result"
    }
   ],
   "source": [
    "data"
   ]
  },
  {
   "cell_type": "markdown",
   "metadata": {
    "id": "cA01iJHkvWhl"
   },
   "source": [
    "# **Challenge**: Convert the `Release_Date` column to a Pandas Datetime type. "
   ]
  },
  {
   "cell_type": "code",
   "execution_count": 109,
   "metadata": {},
   "outputs": [],
   "source": [
    "data.Release_Date = pd.to_datetime(data.Release_Date)"
   ]
  },
  {
   "cell_type": "code",
   "execution_count": 110,
   "metadata": {},
   "outputs": [
    {
     "name": "stdout",
     "output_type": "stream",
     "text": [
      "<class 'pandas.core.frame.DataFrame'>\n",
      "RangeIndex: 5391 entries, 0 to 5390\n",
      "Data columns (total 6 columns):\n",
      " #   Column                 Non-Null Count  Dtype         \n",
      "---  ------                 --------------  -----         \n",
      " 0   Rank                   5391 non-null   int64         \n",
      " 1   Release_Date           5391 non-null   datetime64[ns]\n",
      " 2   Movie_Title            5391 non-null   object        \n",
      " 3   USD_Production_Budget  5391 non-null   int64         \n",
      " 4   USD_Worldwide_Gross    5391 non-null   int64         \n",
      " 5   USD_Domestic_Gross     5391 non-null   int64         \n",
      "dtypes: datetime64[ns](1), int64(4), object(1)\n",
      "memory usage: 252.8+ KB\n"
     ]
    }
   ],
   "source": [
    "data.info()"
   ]
  },
  {
   "cell_type": "code",
   "execution_count": null,
   "metadata": {
    "id": "Pq1WfvRnTRU6"
   },
   "outputs": [],
   "source": []
  },
  {
   "cell_type": "markdown",
   "metadata": {
    "id": "NkwmJO3tvt5i"
   },
   "source": [
    "### Descriptive Statistics"
   ]
  },
  {
   "cell_type": "markdown",
   "metadata": {
    "id": "bnb54thrvx5r"
   },
   "source": [
    "**Challenge**: \n",
    "\n",
    "1. What is the average production budget of the films in the data set?\n",
    "2. What is the average worldwide gross revenue of films?\n",
    "3. What were the minimums for worldwide and domestic revenue?\n",
    "4. Are the bottom 25% of films actually profitable or do they lose money?\n",
    "5. What are the highest production budget and highest worldwide gross revenue of any film?\n",
    "6. How much revenue did the lowest and highest budget films make?"
   ]
  },
  {
   "cell_type": "markdown",
   "metadata": {},
   "source": [
    "### What is the average production budget of the films in the data set?"
   ]
  },
  {
   "cell_type": "code",
   "execution_count": 111,
   "metadata": {
    "id": "8G5_FATFTTtb"
   },
   "outputs": [
    {
     "data": {
      "text/plain": [
       "31113737.57837136"
      ]
     },
     "execution_count": 111,
     "metadata": {},
     "output_type": "execute_result"
    }
   ],
   "source": [
    "avg_budget = data.USD_Production_Budget.mean()\n",
    "avg_budget"
   ]
  },
  {
   "cell_type": "code",
   "execution_count": 112,
   "metadata": {},
   "outputs": [
    {
     "name": "stdout",
     "output_type": "stream",
     "text": [
      "The average production budget of the films is 31113737.58\n"
     ]
    }
   ],
   "source": [
    "print(f\"The average production budget of the films is {round(avg_budget, 2)}\")"
   ]
  },
  {
   "cell_type": "markdown",
   "metadata": {},
   "source": [
    "###  What is the average worldwide gross revenue of films?"
   ]
  },
  {
   "cell_type": "code",
   "execution_count": 113,
   "metadata": {},
   "outputs": [
    {
     "data": {
      "text/plain": [
       "88855421.96271564"
      ]
     },
     "execution_count": 113,
     "metadata": {},
     "output_type": "execute_result"
    }
   ],
   "source": [
    "avg_gross = data.USD_Worldwide_Gross.mean()\n",
    "avg_gross"
   ]
  },
  {
   "cell_type": "code",
   "execution_count": 114,
   "metadata": {},
   "outputs": [
    {
     "name": "stdout",
     "output_type": "stream",
     "text": [
      "The average worldwide gross revenue of the films is 88855421.96\n"
     ]
    }
   ],
   "source": [
    "    print(f\"The average worldwide gross revenue of the films is {round(avg_gross, 2)}\")"
   ]
  },
  {
   "cell_type": "markdown",
   "metadata": {},
   "source": [
    "### All the above and below questions, can be answered with the .describe() method : \n",
    "### 3. What were the minimums for worldwide and domestic revenue? \n",
    "### 4. Are the bottom 25% of films actually profitable or do they lose money?\n",
    "### 5. What are the highest production budget and highest worldwide gross revenue of any film?\n",
    "### 6. How much revenue did the lowest and highest budget films make?"
   ]
  },
  {
   "cell_type": "code",
   "execution_count": 115,
   "metadata": {},
   "outputs": [
    {
     "data": {
      "text/html": [
       "<div>\n",
       "<style scoped>\n",
       "    .dataframe tbody tr th:only-of-type {\n",
       "        vertical-align: middle;\n",
       "    }\n",
       "\n",
       "    .dataframe tbody tr th {\n",
       "        vertical-align: top;\n",
       "    }\n",
       "\n",
       "    .dataframe thead th {\n",
       "        text-align: right;\n",
       "    }\n",
       "</style>\n",
       "<table border=\"1\" class=\"dataframe\">\n",
       "  <thead>\n",
       "    <tr style=\"text-align: right;\">\n",
       "      <th></th>\n",
       "      <th>Rank</th>\n",
       "      <th>Release_Date</th>\n",
       "      <th>USD_Production_Budget</th>\n",
       "      <th>USD_Worldwide_Gross</th>\n",
       "      <th>USD_Domestic_Gross</th>\n",
       "    </tr>\n",
       "  </thead>\n",
       "  <tbody>\n",
       "    <tr>\n",
       "      <th>count</th>\n",
       "      <td>5,391.00</td>\n",
       "      <td>5391</td>\n",
       "      <td>5,391.00</td>\n",
       "      <td>5,391.00</td>\n",
       "      <td>5,391.00</td>\n",
       "    </tr>\n",
       "    <tr>\n",
       "      <th>mean</th>\n",
       "      <td>2,696.00</td>\n",
       "      <td>2003-09-19 15:02:02.203672704</td>\n",
       "      <td>31,113,737.58</td>\n",
       "      <td>88,855,421.96</td>\n",
       "      <td>41,235,519.44</td>\n",
       "    </tr>\n",
       "    <tr>\n",
       "      <th>min</th>\n",
       "      <td>1.00</td>\n",
       "      <td>1915-08-02 00:00:00</td>\n",
       "      <td>1,100.00</td>\n",
       "      <td>0.00</td>\n",
       "      <td>0.00</td>\n",
       "    </tr>\n",
       "    <tr>\n",
       "      <th>25%</th>\n",
       "      <td>1,348.50</td>\n",
       "      <td>1999-12-02 12:00:00</td>\n",
       "      <td>5,000,000.00</td>\n",
       "      <td>3,865,206.00</td>\n",
       "      <td>1,330,901.50</td>\n",
       "    </tr>\n",
       "    <tr>\n",
       "      <th>50%</th>\n",
       "      <td>2,696.00</td>\n",
       "      <td>2006-06-23 00:00:00</td>\n",
       "      <td>17,000,000.00</td>\n",
       "      <td>27,450,453.00</td>\n",
       "      <td>17,192,205.00</td>\n",
       "    </tr>\n",
       "    <tr>\n",
       "      <th>75%</th>\n",
       "      <td>4,043.50</td>\n",
       "      <td>2011-11-23 00:00:00</td>\n",
       "      <td>40,000,000.00</td>\n",
       "      <td>96,454,455.00</td>\n",
       "      <td>52,343,687.00</td>\n",
       "    </tr>\n",
       "    <tr>\n",
       "      <th>max</th>\n",
       "      <td>5,391.00</td>\n",
       "      <td>2020-12-31 00:00:00</td>\n",
       "      <td>425,000,000.00</td>\n",
       "      <td>2,783,918,982.00</td>\n",
       "      <td>936,662,225.00</td>\n",
       "    </tr>\n",
       "    <tr>\n",
       "      <th>std</th>\n",
       "      <td>1,556.39</td>\n",
       "      <td>NaN</td>\n",
       "      <td>40,523,796.88</td>\n",
       "      <td>168,457,757.00</td>\n",
       "      <td>66,029,346.27</td>\n",
       "    </tr>\n",
       "  </tbody>\n",
       "</table>\n",
       "</div>"
      ],
      "text/plain": [
       "          Rank                   Release_Date  USD_Production_Budget  \\\n",
       "count 5,391.00                           5391               5,391.00   \n",
       "mean  2,696.00  2003-09-19 15:02:02.203672704          31,113,737.58   \n",
       "min       1.00            1915-08-02 00:00:00               1,100.00   \n",
       "25%   1,348.50            1999-12-02 12:00:00           5,000,000.00   \n",
       "50%   2,696.00            2006-06-23 00:00:00          17,000,000.00   \n",
       "75%   4,043.50            2011-11-23 00:00:00          40,000,000.00   \n",
       "max   5,391.00            2020-12-31 00:00:00         425,000,000.00   \n",
       "std   1,556.39                            NaN          40,523,796.88   \n",
       "\n",
       "       USD_Worldwide_Gross  USD_Domestic_Gross  \n",
       "count             5,391.00            5,391.00  \n",
       "mean         88,855,421.96       41,235,519.44  \n",
       "min                   0.00                0.00  \n",
       "25%           3,865,206.00        1,330,901.50  \n",
       "50%          27,450,453.00       17,192,205.00  \n",
       "75%          96,454,455.00       52,343,687.00  \n",
       "max       2,783,918,982.00      936,662,225.00  \n",
       "std         168,457,757.00       66,029,346.27  "
      ]
     },
     "execution_count": 115,
     "metadata": {},
     "output_type": "execute_result"
    }
   ],
   "source": [
    "data.describe()"
   ]
  },
  {
   "cell_type": "code",
   "execution_count": 116,
   "metadata": {},
   "outputs": [
    {
     "data": {
      "text/html": [
       "<div>\n",
       "<style scoped>\n",
       "    .dataframe tbody tr th:only-of-type {\n",
       "        vertical-align: middle;\n",
       "    }\n",
       "\n",
       "    .dataframe tbody tr th {\n",
       "        vertical-align: top;\n",
       "    }\n",
       "\n",
       "    .dataframe thead th {\n",
       "        text-align: right;\n",
       "    }\n",
       "</style>\n",
       "<table border=\"1\" class=\"dataframe\">\n",
       "  <thead>\n",
       "    <tr style=\"text-align: right;\">\n",
       "      <th></th>\n",
       "      <th>Rank</th>\n",
       "      <th>Release_Date</th>\n",
       "      <th>Movie_Title</th>\n",
       "      <th>USD_Production_Budget</th>\n",
       "      <th>USD_Worldwide_Gross</th>\n",
       "      <th>USD_Domestic_Gross</th>\n",
       "    </tr>\n",
       "  </thead>\n",
       "  <tbody>\n",
       "    <tr>\n",
       "      <th>2427</th>\n",
       "      <td>5391</td>\n",
       "      <td>2005-05-08</td>\n",
       "      <td>My Date With Drew</td>\n",
       "      <td>1100</td>\n",
       "      <td>181041</td>\n",
       "      <td>181041</td>\n",
       "    </tr>\n",
       "  </tbody>\n",
       "</table>\n",
       "</div>"
      ],
      "text/plain": [
       "      Rank Release_Date        Movie_Title  USD_Production_Budget  \\\n",
       "2427  5391   2005-05-08  My Date With Drew                   1100   \n",
       "\n",
       "      USD_Worldwide_Gross  USD_Domestic_Gross  \n",
       "2427               181041              181041  "
      ]
     },
     "execution_count": 116,
     "metadata": {},
     "output_type": "execute_result"
    }
   ],
   "source": [
    "data[data.USD_Production_Budget == 1100]"
   ]
  },
  {
   "cell_type": "code",
   "execution_count": 117,
   "metadata": {},
   "outputs": [
    {
     "data": {
      "text/html": [
       "<div>\n",
       "<style scoped>\n",
       "    .dataframe tbody tr th:only-of-type {\n",
       "        vertical-align: middle;\n",
       "    }\n",
       "\n",
       "    .dataframe tbody tr th {\n",
       "        vertical-align: top;\n",
       "    }\n",
       "\n",
       "    .dataframe thead th {\n",
       "        text-align: right;\n",
       "    }\n",
       "</style>\n",
       "<table border=\"1\" class=\"dataframe\">\n",
       "  <thead>\n",
       "    <tr style=\"text-align: right;\">\n",
       "      <th></th>\n",
       "      <th>Rank</th>\n",
       "      <th>Release_Date</th>\n",
       "      <th>Movie_Title</th>\n",
       "      <th>USD_Production_Budget</th>\n",
       "      <th>USD_Worldwide_Gross</th>\n",
       "      <th>USD_Domestic_Gross</th>\n",
       "    </tr>\n",
       "  </thead>\n",
       "  <tbody>\n",
       "    <tr>\n",
       "      <th>3529</th>\n",
       "      <td>1</td>\n",
       "      <td>2009-12-18</td>\n",
       "      <td>Avatar</td>\n",
       "      <td>425000000</td>\n",
       "      <td>2783918982</td>\n",
       "      <td>760507625</td>\n",
       "    </tr>\n",
       "  </tbody>\n",
       "</table>\n",
       "</div>"
      ],
      "text/plain": [
       "      Rank Release_Date Movie_Title  USD_Production_Budget  \\\n",
       "3529     1   2009-12-18      Avatar              425000000   \n",
       "\n",
       "      USD_Worldwide_Gross  USD_Domestic_Gross  \n",
       "3529           2783918982           760507625  "
      ]
     },
     "execution_count": 117,
     "metadata": {},
     "output_type": "execute_result"
    }
   ],
   "source": [
    "data[data.USD_Production_Budget == 425000000]"
   ]
  },
  {
   "cell_type": "markdown",
   "metadata": {
    "id": "Cj-ug32JyEhp"
   },
   "source": [
    "# Investigating the Zero Revenue Films"
   ]
  },
  {
   "cell_type": "markdown",
   "metadata": {
    "id": "U9hm-pb4xTjY"
   },
   "source": [
    "**Challenge** How many films grossed $0 domestically (i.e., in the United States)? What were the highest budget films that grossed nothing?"
   ]
  },
  {
   "cell_type": "code",
   "execution_count": 118,
   "metadata": {
    "id": "MXuRYdy0TWkt"
   },
   "outputs": [
    {
     "data": {
      "text/html": [
       "<div>\n",
       "<style scoped>\n",
       "    .dataframe tbody tr th:only-of-type {\n",
       "        vertical-align: middle;\n",
       "    }\n",
       "\n",
       "    .dataframe tbody tr th {\n",
       "        vertical-align: top;\n",
       "    }\n",
       "\n",
       "    .dataframe thead th {\n",
       "        text-align: right;\n",
       "    }\n",
       "</style>\n",
       "<table border=\"1\" class=\"dataframe\">\n",
       "  <thead>\n",
       "    <tr style=\"text-align: right;\">\n",
       "      <th></th>\n",
       "      <th>Rank</th>\n",
       "      <th>Release_Date</th>\n",
       "      <th>Movie_Title</th>\n",
       "      <th>USD_Production_Budget</th>\n",
       "      <th>USD_Worldwide_Gross</th>\n",
       "      <th>USD_Domestic_Gross</th>\n",
       "    </tr>\n",
       "  </thead>\n",
       "  <tbody>\n",
       "    <tr>\n",
       "      <th>1</th>\n",
       "      <td>5140</td>\n",
       "      <td>1916-05-09</td>\n",
       "      <td>Intolerance</td>\n",
       "      <td>385907</td>\n",
       "      <td>0</td>\n",
       "      <td>0</td>\n",
       "    </tr>\n",
       "    <tr>\n",
       "      <th>6</th>\n",
       "      <td>4630</td>\n",
       "      <td>1927-12-08</td>\n",
       "      <td>Wings</td>\n",
       "      <td>2000000</td>\n",
       "      <td>0</td>\n",
       "      <td>0</td>\n",
       "    </tr>\n",
       "    <tr>\n",
       "      <th>8</th>\n",
       "      <td>4240</td>\n",
       "      <td>1930-01-01</td>\n",
       "      <td>Hell's Angels</td>\n",
       "      <td>4000000</td>\n",
       "      <td>0</td>\n",
       "      <td>0</td>\n",
       "    </tr>\n",
       "    <tr>\n",
       "      <th>17</th>\n",
       "      <td>4814</td>\n",
       "      <td>1936-10-20</td>\n",
       "      <td>Charge of the Light Brigade, The</td>\n",
       "      <td>1200000</td>\n",
       "      <td>0</td>\n",
       "      <td>0</td>\n",
       "    </tr>\n",
       "    <tr>\n",
       "      <th>27</th>\n",
       "      <td>4789</td>\n",
       "      <td>1941-10-28</td>\n",
       "      <td>How Green Was My Valley</td>\n",
       "      <td>1250000</td>\n",
       "      <td>0</td>\n",
       "      <td>0</td>\n",
       "    </tr>\n",
       "    <tr>\n",
       "      <th>...</th>\n",
       "      <td>...</td>\n",
       "      <td>...</td>\n",
       "      <td>...</td>\n",
       "      <td>...</td>\n",
       "      <td>...</td>\n",
       "      <td>...</td>\n",
       "    </tr>\n",
       "    <tr>\n",
       "      <th>5386</th>\n",
       "      <td>2950</td>\n",
       "      <td>2018-10-08</td>\n",
       "      <td>Meg</td>\n",
       "      <td>15000000</td>\n",
       "      <td>0</td>\n",
       "      <td>0</td>\n",
       "    </tr>\n",
       "    <tr>\n",
       "      <th>5387</th>\n",
       "      <td>126</td>\n",
       "      <td>2018-12-18</td>\n",
       "      <td>Aquaman</td>\n",
       "      <td>160000000</td>\n",
       "      <td>0</td>\n",
       "      <td>0</td>\n",
       "    </tr>\n",
       "    <tr>\n",
       "      <th>5388</th>\n",
       "      <td>96</td>\n",
       "      <td>2020-12-31</td>\n",
       "      <td>Singularity</td>\n",
       "      <td>175000000</td>\n",
       "      <td>0</td>\n",
       "      <td>0</td>\n",
       "    </tr>\n",
       "    <tr>\n",
       "      <th>5389</th>\n",
       "      <td>1119</td>\n",
       "      <td>2020-12-31</td>\n",
       "      <td>Hannibal the Conqueror</td>\n",
       "      <td>50000000</td>\n",
       "      <td>0</td>\n",
       "      <td>0</td>\n",
       "    </tr>\n",
       "    <tr>\n",
       "      <th>5390</th>\n",
       "      <td>2517</td>\n",
       "      <td>2020-12-31</td>\n",
       "      <td>Story of Bonnie and Clyde, The</td>\n",
       "      <td>20000000</td>\n",
       "      <td>0</td>\n",
       "      <td>0</td>\n",
       "    </tr>\n",
       "  </tbody>\n",
       "</table>\n",
       "<p>512 rows × 6 columns</p>\n",
       "</div>"
      ],
      "text/plain": [
       "      Rank Release_Date                       Movie_Title  \\\n",
       "1     5140   1916-05-09                       Intolerance   \n",
       "6     4630   1927-12-08                             Wings   \n",
       "8     4240   1930-01-01                     Hell's Angels   \n",
       "17    4814   1936-10-20  Charge of the Light Brigade, The   \n",
       "27    4789   1941-10-28           How Green Was My Valley   \n",
       "...    ...          ...                               ...   \n",
       "5386  2950   2018-10-08                               Meg   \n",
       "5387   126   2018-12-18                           Aquaman   \n",
       "5388    96   2020-12-31                       Singularity   \n",
       "5389  1119   2020-12-31            Hannibal the Conqueror   \n",
       "5390  2517   2020-12-31    Story of Bonnie and Clyde, The   \n",
       "\n",
       "      USD_Production_Budget  USD_Worldwide_Gross  USD_Domestic_Gross  \n",
       "1                    385907                    0                   0  \n",
       "6                   2000000                    0                   0  \n",
       "8                   4000000                    0                   0  \n",
       "17                  1200000                    0                   0  \n",
       "27                  1250000                    0                   0  \n",
       "...                     ...                  ...                 ...  \n",
       "5386               15000000                    0                   0  \n",
       "5387              160000000                    0                   0  \n",
       "5388              175000000                    0                   0  \n",
       "5389               50000000                    0                   0  \n",
       "5390               20000000                    0                   0  \n",
       "\n",
       "[512 rows x 6 columns]"
      ]
     },
     "execution_count": 118,
     "metadata": {},
     "output_type": "execute_result"
    }
   ],
   "source": [
    "zero_domestic = data[data.USD_Domestic_Gross == 0]\n",
    "zero_domestic"
   ]
  },
  {
   "cell_type": "code",
   "execution_count": 119,
   "metadata": {},
   "outputs": [
    {
     "data": {
      "text/html": [
       "<div>\n",
       "<style scoped>\n",
       "    .dataframe tbody tr th:only-of-type {\n",
       "        vertical-align: middle;\n",
       "    }\n",
       "\n",
       "    .dataframe tbody tr th {\n",
       "        vertical-align: top;\n",
       "    }\n",
       "\n",
       "    .dataframe thead th {\n",
       "        text-align: right;\n",
       "    }\n",
       "</style>\n",
       "<table border=\"1\" class=\"dataframe\">\n",
       "  <thead>\n",
       "    <tr style=\"text-align: right;\">\n",
       "      <th></th>\n",
       "      <th>Rank</th>\n",
       "      <th>Release_Date</th>\n",
       "      <th>Movie_Title</th>\n",
       "      <th>USD_Production_Budget</th>\n",
       "      <th>USD_Worldwide_Gross</th>\n",
       "      <th>USD_Domestic_Gross</th>\n",
       "    </tr>\n",
       "  </thead>\n",
       "  <tbody>\n",
       "    <tr>\n",
       "      <th>5388</th>\n",
       "      <td>96</td>\n",
       "      <td>2020-12-31</td>\n",
       "      <td>Singularity</td>\n",
       "      <td>175000000</td>\n",
       "      <td>0</td>\n",
       "      <td>0</td>\n",
       "    </tr>\n",
       "    <tr>\n",
       "      <th>5387</th>\n",
       "      <td>126</td>\n",
       "      <td>2018-12-18</td>\n",
       "      <td>Aquaman</td>\n",
       "      <td>160000000</td>\n",
       "      <td>0</td>\n",
       "      <td>0</td>\n",
       "    </tr>\n",
       "    <tr>\n",
       "      <th>5384</th>\n",
       "      <td>321</td>\n",
       "      <td>2018-09-03</td>\n",
       "      <td>A Wrinkle in Time</td>\n",
       "      <td>103000000</td>\n",
       "      <td>0</td>\n",
       "      <td>0</td>\n",
       "    </tr>\n",
       "    <tr>\n",
       "      <th>5385</th>\n",
       "      <td>366</td>\n",
       "      <td>2018-10-08</td>\n",
       "      <td>Amusement Park</td>\n",
       "      <td>100000000</td>\n",
       "      <td>0</td>\n",
       "      <td>0</td>\n",
       "    </tr>\n",
       "    <tr>\n",
       "      <th>5090</th>\n",
       "      <td>556</td>\n",
       "      <td>2015-12-31</td>\n",
       "      <td>Don Gato, el inicio de la pandilla</td>\n",
       "      <td>80000000</td>\n",
       "      <td>4547660</td>\n",
       "      <td>0</td>\n",
       "    </tr>\n",
       "    <tr>\n",
       "      <th>...</th>\n",
       "      <td>...</td>\n",
       "      <td>...</td>\n",
       "      <td>...</td>\n",
       "      <td>...</td>\n",
       "      <td>...</td>\n",
       "      <td>...</td>\n",
       "    </tr>\n",
       "    <tr>\n",
       "      <th>4787</th>\n",
       "      <td>5371</td>\n",
       "      <td>2014-12-31</td>\n",
       "      <td>Stories of Our Lives</td>\n",
       "      <td>15000</td>\n",
       "      <td>0</td>\n",
       "      <td>0</td>\n",
       "    </tr>\n",
       "    <tr>\n",
       "      <th>3056</th>\n",
       "      <td>5374</td>\n",
       "      <td>2007-12-31</td>\n",
       "      <td>Tin Can Man</td>\n",
       "      <td>12000</td>\n",
       "      <td>0</td>\n",
       "      <td>0</td>\n",
       "    </tr>\n",
       "    <tr>\n",
       "      <th>4907</th>\n",
       "      <td>5381</td>\n",
       "      <td>2015-05-19</td>\n",
       "      <td>Family Motocross</td>\n",
       "      <td>10000</td>\n",
       "      <td>0</td>\n",
       "      <td>0</td>\n",
       "    </tr>\n",
       "    <tr>\n",
       "      <th>5006</th>\n",
       "      <td>5389</td>\n",
       "      <td>2015-09-29</td>\n",
       "      <td>Signed Sealed Delivered</td>\n",
       "      <td>5000</td>\n",
       "      <td>0</td>\n",
       "      <td>0</td>\n",
       "    </tr>\n",
       "    <tr>\n",
       "      <th>5007</th>\n",
       "      <td>5390</td>\n",
       "      <td>2015-09-29</td>\n",
       "      <td>A Plague So Pleasant</td>\n",
       "      <td>1400</td>\n",
       "      <td>0</td>\n",
       "      <td>0</td>\n",
       "    </tr>\n",
       "  </tbody>\n",
       "</table>\n",
       "<p>512 rows × 6 columns</p>\n",
       "</div>"
      ],
      "text/plain": [
       "      Rank Release_Date                         Movie_Title  \\\n",
       "5388    96   2020-12-31                         Singularity   \n",
       "5387   126   2018-12-18                             Aquaman   \n",
       "5384   321   2018-09-03                   A Wrinkle in Time   \n",
       "5385   366   2018-10-08                      Amusement Park   \n",
       "5090   556   2015-12-31  Don Gato, el inicio de la pandilla   \n",
       "...    ...          ...                                 ...   \n",
       "4787  5371   2014-12-31                Stories of Our Lives   \n",
       "3056  5374   2007-12-31                         Tin Can Man   \n",
       "4907  5381   2015-05-19                    Family Motocross   \n",
       "5006  5389   2015-09-29             Signed Sealed Delivered   \n",
       "5007  5390   2015-09-29                A Plague So Pleasant   \n",
       "\n",
       "      USD_Production_Budget  USD_Worldwide_Gross  USD_Domestic_Gross  \n",
       "5388              175000000                    0                   0  \n",
       "5387              160000000                    0                   0  \n",
       "5384              103000000                    0                   0  \n",
       "5385              100000000                    0                   0  \n",
       "5090               80000000              4547660                   0  \n",
       "...                     ...                  ...                 ...  \n",
       "4787                  15000                    0                   0  \n",
       "3056                  12000                    0                   0  \n",
       "4907                  10000                    0                   0  \n",
       "5006                   5000                    0                   0  \n",
       "5007                   1400                    0                   0  \n",
       "\n",
       "[512 rows x 6 columns]"
      ]
     },
     "execution_count": 119,
     "metadata": {},
     "output_type": "execute_result"
    }
   ],
   "source": [
    "zero_domestic.sort_values('USD_Production_Budget', ascending = False)"
   ]
  },
  {
   "cell_type": "markdown",
   "metadata": {
    "id": "mY8SAwI0x73b"
   },
   "source": [
    "**Challenge**: How many films grossed $0 worldwide? What are the highest budget films that had no revenue internationally?"
   ]
  },
  {
   "cell_type": "code",
   "execution_count": 120,
   "metadata": {
    "id": "VpfocexxTXym"
   },
   "outputs": [
    {
     "data": {
      "text/html": [
       "<div>\n",
       "<style scoped>\n",
       "    .dataframe tbody tr th:only-of-type {\n",
       "        vertical-align: middle;\n",
       "    }\n",
       "\n",
       "    .dataframe tbody tr th {\n",
       "        vertical-align: top;\n",
       "    }\n",
       "\n",
       "    .dataframe thead th {\n",
       "        text-align: right;\n",
       "    }\n",
       "</style>\n",
       "<table border=\"1\" class=\"dataframe\">\n",
       "  <thead>\n",
       "    <tr style=\"text-align: right;\">\n",
       "      <th></th>\n",
       "      <th>Rank</th>\n",
       "      <th>Release_Date</th>\n",
       "      <th>Movie_Title</th>\n",
       "      <th>USD_Production_Budget</th>\n",
       "      <th>USD_Worldwide_Gross</th>\n",
       "      <th>USD_Domestic_Gross</th>\n",
       "    </tr>\n",
       "  </thead>\n",
       "  <tbody>\n",
       "    <tr>\n",
       "      <th>1</th>\n",
       "      <td>5140</td>\n",
       "      <td>1916-05-09</td>\n",
       "      <td>Intolerance</td>\n",
       "      <td>385907</td>\n",
       "      <td>0</td>\n",
       "      <td>0</td>\n",
       "    </tr>\n",
       "    <tr>\n",
       "      <th>6</th>\n",
       "      <td>4630</td>\n",
       "      <td>1927-12-08</td>\n",
       "      <td>Wings</td>\n",
       "      <td>2000000</td>\n",
       "      <td>0</td>\n",
       "      <td>0</td>\n",
       "    </tr>\n",
       "    <tr>\n",
       "      <th>8</th>\n",
       "      <td>4240</td>\n",
       "      <td>1930-01-01</td>\n",
       "      <td>Hell's Angels</td>\n",
       "      <td>4000000</td>\n",
       "      <td>0</td>\n",
       "      <td>0</td>\n",
       "    </tr>\n",
       "    <tr>\n",
       "      <th>17</th>\n",
       "      <td>4814</td>\n",
       "      <td>1936-10-20</td>\n",
       "      <td>Charge of the Light Brigade, The</td>\n",
       "      <td>1200000</td>\n",
       "      <td>0</td>\n",
       "      <td>0</td>\n",
       "    </tr>\n",
       "    <tr>\n",
       "      <th>27</th>\n",
       "      <td>4789</td>\n",
       "      <td>1941-10-28</td>\n",
       "      <td>How Green Was My Valley</td>\n",
       "      <td>1250000</td>\n",
       "      <td>0</td>\n",
       "      <td>0</td>\n",
       "    </tr>\n",
       "    <tr>\n",
       "      <th>...</th>\n",
       "      <td>...</td>\n",
       "      <td>...</td>\n",
       "      <td>...</td>\n",
       "      <td>...</td>\n",
       "      <td>...</td>\n",
       "      <td>...</td>\n",
       "    </tr>\n",
       "    <tr>\n",
       "      <th>5386</th>\n",
       "      <td>2950</td>\n",
       "      <td>2018-10-08</td>\n",
       "      <td>Meg</td>\n",
       "      <td>15000000</td>\n",
       "      <td>0</td>\n",
       "      <td>0</td>\n",
       "    </tr>\n",
       "    <tr>\n",
       "      <th>5387</th>\n",
       "      <td>126</td>\n",
       "      <td>2018-12-18</td>\n",
       "      <td>Aquaman</td>\n",
       "      <td>160000000</td>\n",
       "      <td>0</td>\n",
       "      <td>0</td>\n",
       "    </tr>\n",
       "    <tr>\n",
       "      <th>5388</th>\n",
       "      <td>96</td>\n",
       "      <td>2020-12-31</td>\n",
       "      <td>Singularity</td>\n",
       "      <td>175000000</td>\n",
       "      <td>0</td>\n",
       "      <td>0</td>\n",
       "    </tr>\n",
       "    <tr>\n",
       "      <th>5389</th>\n",
       "      <td>1119</td>\n",
       "      <td>2020-12-31</td>\n",
       "      <td>Hannibal the Conqueror</td>\n",
       "      <td>50000000</td>\n",
       "      <td>0</td>\n",
       "      <td>0</td>\n",
       "    </tr>\n",
       "    <tr>\n",
       "      <th>5390</th>\n",
       "      <td>2517</td>\n",
       "      <td>2020-12-31</td>\n",
       "      <td>Story of Bonnie and Clyde, The</td>\n",
       "      <td>20000000</td>\n",
       "      <td>0</td>\n",
       "      <td>0</td>\n",
       "    </tr>\n",
       "  </tbody>\n",
       "</table>\n",
       "<p>357 rows × 6 columns</p>\n",
       "</div>"
      ],
      "text/plain": [
       "      Rank Release_Date                       Movie_Title  \\\n",
       "1     5140   1916-05-09                       Intolerance   \n",
       "6     4630   1927-12-08                             Wings   \n",
       "8     4240   1930-01-01                     Hell's Angels   \n",
       "17    4814   1936-10-20  Charge of the Light Brigade, The   \n",
       "27    4789   1941-10-28           How Green Was My Valley   \n",
       "...    ...          ...                               ...   \n",
       "5386  2950   2018-10-08                               Meg   \n",
       "5387   126   2018-12-18                           Aquaman   \n",
       "5388    96   2020-12-31                       Singularity   \n",
       "5389  1119   2020-12-31            Hannibal the Conqueror   \n",
       "5390  2517   2020-12-31    Story of Bonnie and Clyde, The   \n",
       "\n",
       "      USD_Production_Budget  USD_Worldwide_Gross  USD_Domestic_Gross  \n",
       "1                    385907                    0                   0  \n",
       "6                   2000000                    0                   0  \n",
       "8                   4000000                    0                   0  \n",
       "17                  1200000                    0                   0  \n",
       "27                  1250000                    0                   0  \n",
       "...                     ...                  ...                 ...  \n",
       "5386               15000000                    0                   0  \n",
       "5387              160000000                    0                   0  \n",
       "5388              175000000                    0                   0  \n",
       "5389               50000000                    0                   0  \n",
       "5390               20000000                    0                   0  \n",
       "\n",
       "[357 rows x 6 columns]"
      ]
     },
     "execution_count": 120,
     "metadata": {},
     "output_type": "execute_result"
    }
   ],
   "source": [
    "zero_worldwide = data[data.USD_Worldwide_Gross == 0]\n",
    "zero_worldwide"
   ]
  },
  {
   "cell_type": "code",
   "execution_count": 121,
   "metadata": {},
   "outputs": [
    {
     "data": {
      "text/html": [
       "<div>\n",
       "<style scoped>\n",
       "    .dataframe tbody tr th:only-of-type {\n",
       "        vertical-align: middle;\n",
       "    }\n",
       "\n",
       "    .dataframe tbody tr th {\n",
       "        vertical-align: top;\n",
       "    }\n",
       "\n",
       "    .dataframe thead th {\n",
       "        text-align: right;\n",
       "    }\n",
       "</style>\n",
       "<table border=\"1\" class=\"dataframe\">\n",
       "  <thead>\n",
       "    <tr style=\"text-align: right;\">\n",
       "      <th></th>\n",
       "      <th>Rank</th>\n",
       "      <th>Release_Date</th>\n",
       "      <th>Movie_Title</th>\n",
       "      <th>USD_Production_Budget</th>\n",
       "      <th>USD_Worldwide_Gross</th>\n",
       "      <th>USD_Domestic_Gross</th>\n",
       "    </tr>\n",
       "  </thead>\n",
       "  <tbody>\n",
       "    <tr>\n",
       "      <th>5388</th>\n",
       "      <td>96</td>\n",
       "      <td>2020-12-31</td>\n",
       "      <td>Singularity</td>\n",
       "      <td>175000000</td>\n",
       "      <td>0</td>\n",
       "      <td>0</td>\n",
       "    </tr>\n",
       "    <tr>\n",
       "      <th>5387</th>\n",
       "      <td>126</td>\n",
       "      <td>2018-12-18</td>\n",
       "      <td>Aquaman</td>\n",
       "      <td>160000000</td>\n",
       "      <td>0</td>\n",
       "      <td>0</td>\n",
       "    </tr>\n",
       "    <tr>\n",
       "      <th>5384</th>\n",
       "      <td>321</td>\n",
       "      <td>2018-09-03</td>\n",
       "      <td>A Wrinkle in Time</td>\n",
       "      <td>103000000</td>\n",
       "      <td>0</td>\n",
       "      <td>0</td>\n",
       "    </tr>\n",
       "    <tr>\n",
       "      <th>5385</th>\n",
       "      <td>366</td>\n",
       "      <td>2018-10-08</td>\n",
       "      <td>Amusement Park</td>\n",
       "      <td>100000000</td>\n",
       "      <td>0</td>\n",
       "      <td>0</td>\n",
       "    </tr>\n",
       "    <tr>\n",
       "      <th>5058</th>\n",
       "      <td>880</td>\n",
       "      <td>2015-11-12</td>\n",
       "      <td>The Ridiculous 6</td>\n",
       "      <td>60000000</td>\n",
       "      <td>0</td>\n",
       "      <td>0</td>\n",
       "    </tr>\n",
       "    <tr>\n",
       "      <th>...</th>\n",
       "      <td>...</td>\n",
       "      <td>...</td>\n",
       "      <td>...</td>\n",
       "      <td>...</td>\n",
       "      <td>...</td>\n",
       "      <td>...</td>\n",
       "    </tr>\n",
       "    <tr>\n",
       "      <th>4787</th>\n",
       "      <td>5371</td>\n",
       "      <td>2014-12-31</td>\n",
       "      <td>Stories of Our Lives</td>\n",
       "      <td>15000</td>\n",
       "      <td>0</td>\n",
       "      <td>0</td>\n",
       "    </tr>\n",
       "    <tr>\n",
       "      <th>3056</th>\n",
       "      <td>5374</td>\n",
       "      <td>2007-12-31</td>\n",
       "      <td>Tin Can Man</td>\n",
       "      <td>12000</td>\n",
       "      <td>0</td>\n",
       "      <td>0</td>\n",
       "    </tr>\n",
       "    <tr>\n",
       "      <th>4907</th>\n",
       "      <td>5381</td>\n",
       "      <td>2015-05-19</td>\n",
       "      <td>Family Motocross</td>\n",
       "      <td>10000</td>\n",
       "      <td>0</td>\n",
       "      <td>0</td>\n",
       "    </tr>\n",
       "    <tr>\n",
       "      <th>5006</th>\n",
       "      <td>5389</td>\n",
       "      <td>2015-09-29</td>\n",
       "      <td>Signed Sealed Delivered</td>\n",
       "      <td>5000</td>\n",
       "      <td>0</td>\n",
       "      <td>0</td>\n",
       "    </tr>\n",
       "    <tr>\n",
       "      <th>5007</th>\n",
       "      <td>5390</td>\n",
       "      <td>2015-09-29</td>\n",
       "      <td>A Plague So Pleasant</td>\n",
       "      <td>1400</td>\n",
       "      <td>0</td>\n",
       "      <td>0</td>\n",
       "    </tr>\n",
       "  </tbody>\n",
       "</table>\n",
       "<p>357 rows × 6 columns</p>\n",
       "</div>"
      ],
      "text/plain": [
       "      Rank Release_Date              Movie_Title  USD_Production_Budget  \\\n",
       "5388    96   2020-12-31              Singularity              175000000   \n",
       "5387   126   2018-12-18                  Aquaman              160000000   \n",
       "5384   321   2018-09-03        A Wrinkle in Time              103000000   \n",
       "5385   366   2018-10-08           Amusement Park              100000000   \n",
       "5058   880   2015-11-12         The Ridiculous 6               60000000   \n",
       "...    ...          ...                      ...                    ...   \n",
       "4787  5371   2014-12-31     Stories of Our Lives                  15000   \n",
       "3056  5374   2007-12-31              Tin Can Man                  12000   \n",
       "4907  5381   2015-05-19         Family Motocross                  10000   \n",
       "5006  5389   2015-09-29  Signed Sealed Delivered                   5000   \n",
       "5007  5390   2015-09-29     A Plague So Pleasant                   1400   \n",
       "\n",
       "      USD_Worldwide_Gross  USD_Domestic_Gross  \n",
       "5388                    0                   0  \n",
       "5387                    0                   0  \n",
       "5384                    0                   0  \n",
       "5385                    0                   0  \n",
       "5058                    0                   0  \n",
       "...                   ...                 ...  \n",
       "4787                    0                   0  \n",
       "3056                    0                   0  \n",
       "4907                    0                   0  \n",
       "5006                    0                   0  \n",
       "5007                    0                   0  \n",
       "\n",
       "[357 rows x 6 columns]"
      ]
     },
     "execution_count": 121,
     "metadata": {},
     "output_type": "execute_result"
    }
   ],
   "source": [
    "zero_worldwide.sort_values('USD_Production_Budget', ascending = False)"
   ]
  },
  {
   "cell_type": "markdown",
   "metadata": {
    "id": "eXUDzWpeyV2f"
   },
   "source": [
    "### Filtering on Multiple Conditions"
   ]
  },
  {
   "cell_type": "code",
   "execution_count": 122,
   "metadata": {
    "id": "dLd3eeD9TZZ9"
   },
   "outputs": [
    {
     "data": {
      "text/html": [
       "<div>\n",
       "<style scoped>\n",
       "    .dataframe tbody tr th:only-of-type {\n",
       "        vertical-align: middle;\n",
       "    }\n",
       "\n",
       "    .dataframe tbody tr th {\n",
       "        vertical-align: top;\n",
       "    }\n",
       "\n",
       "    .dataframe thead th {\n",
       "        text-align: right;\n",
       "    }\n",
       "</style>\n",
       "<table border=\"1\" class=\"dataframe\">\n",
       "  <thead>\n",
       "    <tr style=\"text-align: right;\">\n",
       "      <th></th>\n",
       "      <th>Rank</th>\n",
       "      <th>Release_Date</th>\n",
       "      <th>Movie_Title</th>\n",
       "      <th>USD_Production_Budget</th>\n",
       "      <th>USD_Worldwide_Gross</th>\n",
       "      <th>USD_Domestic_Gross</th>\n",
       "    </tr>\n",
       "  </thead>\n",
       "  <tbody>\n",
       "    <tr>\n",
       "      <th>71</th>\n",
       "      <td>4310</td>\n",
       "      <td>1956-02-16</td>\n",
       "      <td>Carousel</td>\n",
       "      <td>3380000</td>\n",
       "      <td>3220</td>\n",
       "      <td>0</td>\n",
       "    </tr>\n",
       "    <tr>\n",
       "      <th>1579</th>\n",
       "      <td>5087</td>\n",
       "      <td>2001-02-11</td>\n",
       "      <td>Everything Put Together</td>\n",
       "      <td>500000</td>\n",
       "      <td>7890</td>\n",
       "      <td>0</td>\n",
       "    </tr>\n",
       "    <tr>\n",
       "      <th>1744</th>\n",
       "      <td>3695</td>\n",
       "      <td>2001-12-31</td>\n",
       "      <td>The Hole</td>\n",
       "      <td>7500000</td>\n",
       "      <td>10834406</td>\n",
       "      <td>0</td>\n",
       "    </tr>\n",
       "    <tr>\n",
       "      <th>2155</th>\n",
       "      <td>4236</td>\n",
       "      <td>2003-12-31</td>\n",
       "      <td>Nothing</td>\n",
       "      <td>4000000</td>\n",
       "      <td>63180</td>\n",
       "      <td>0</td>\n",
       "    </tr>\n",
       "    <tr>\n",
       "      <th>2203</th>\n",
       "      <td>2513</td>\n",
       "      <td>2004-03-31</td>\n",
       "      <td>The Touch</td>\n",
       "      <td>20000000</td>\n",
       "      <td>5918742</td>\n",
       "      <td>0</td>\n",
       "    </tr>\n",
       "    <tr>\n",
       "      <th>...</th>\n",
       "      <td>...</td>\n",
       "      <td>...</td>\n",
       "      <td>...</td>\n",
       "      <td>...</td>\n",
       "      <td>...</td>\n",
       "      <td>...</td>\n",
       "    </tr>\n",
       "    <tr>\n",
       "      <th>5340</th>\n",
       "      <td>1506</td>\n",
       "      <td>2017-04-14</td>\n",
       "      <td>Queen of the Desert</td>\n",
       "      <td>36000000</td>\n",
       "      <td>1480089</td>\n",
       "      <td>0</td>\n",
       "    </tr>\n",
       "    <tr>\n",
       "      <th>5348</th>\n",
       "      <td>2225</td>\n",
       "      <td>2017-05-05</td>\n",
       "      <td>Chāi dàn zhuānjiā</td>\n",
       "      <td>23000000</td>\n",
       "      <td>58807172</td>\n",
       "      <td>0</td>\n",
       "    </tr>\n",
       "    <tr>\n",
       "      <th>5360</th>\n",
       "      <td>4832</td>\n",
       "      <td>2017-07-03</td>\n",
       "      <td>Departure</td>\n",
       "      <td>1100000</td>\n",
       "      <td>27561</td>\n",
       "      <td>0</td>\n",
       "    </tr>\n",
       "    <tr>\n",
       "      <th>5372</th>\n",
       "      <td>1856</td>\n",
       "      <td>2017-08-25</td>\n",
       "      <td>Ballerina</td>\n",
       "      <td>30000000</td>\n",
       "      <td>48048527</td>\n",
       "      <td>0</td>\n",
       "    </tr>\n",
       "    <tr>\n",
       "      <th>5374</th>\n",
       "      <td>4237</td>\n",
       "      <td>2017-08-25</td>\n",
       "      <td>Polina danser sa vie</td>\n",
       "      <td>4000000</td>\n",
       "      <td>36630</td>\n",
       "      <td>0</td>\n",
       "    </tr>\n",
       "  </tbody>\n",
       "</table>\n",
       "<p>155 rows × 6 columns</p>\n",
       "</div>"
      ],
      "text/plain": [
       "      Rank Release_Date              Movie_Title  USD_Production_Budget  \\\n",
       "71    4310   1956-02-16                 Carousel                3380000   \n",
       "1579  5087   2001-02-11  Everything Put Together                 500000   \n",
       "1744  3695   2001-12-31                 The Hole                7500000   \n",
       "2155  4236   2003-12-31                  Nothing                4000000   \n",
       "2203  2513   2004-03-31                The Touch               20000000   \n",
       "...    ...          ...                      ...                    ...   \n",
       "5340  1506   2017-04-14      Queen of the Desert               36000000   \n",
       "5348  2225   2017-05-05        Chāi dàn zhuānjiā               23000000   \n",
       "5360  4832   2017-07-03                Departure                1100000   \n",
       "5372  1856   2017-08-25                Ballerina               30000000   \n",
       "5374  4237   2017-08-25     Polina danser sa vie                4000000   \n",
       "\n",
       "      USD_Worldwide_Gross  USD_Domestic_Gross  \n",
       "71                   3220                   0  \n",
       "1579                 7890                   0  \n",
       "1744             10834406                   0  \n",
       "2155                63180                   0  \n",
       "2203              5918742                   0  \n",
       "...                   ...                 ...  \n",
       "5340              1480089                   0  \n",
       "5348             58807172                   0  \n",
       "5360                27561                   0  \n",
       "5372             48048527                   0  \n",
       "5374                36630                   0  \n",
       "\n",
       "[155 rows x 6 columns]"
      ]
     },
     "execution_count": 122,
     "metadata": {},
     "output_type": "execute_result"
    }
   ],
   "source": [
    "international_releases = data.loc[(data.USD_Domestic_Gross == 0) & (data.USD_Worldwide_Gross != 0)]\n",
    "international_releases"
   ]
  },
  {
   "cell_type": "markdown",
   "metadata": {
    "id": "YruPjqLVPuiB"
   },
   "source": [
    "**Challenge**: Use the [`.query()` function](https://pandas.pydata.org/pandas-docs/stable/reference/api/pandas.DataFrame.query.html) to accomplish the same thing. Create a subset for international releases that had some worldwide gross revenue, but made zero revenue in the United States. \n",
    "\n",
    "Hint: This time you'll have to use the `and` keyword."
   ]
  },
  {
   "cell_type": "code",
   "execution_count": 123,
   "metadata": {
    "id": "Xvu-jTCwTavg"
   },
   "outputs": [
    {
     "data": {
      "text/html": [
       "<div>\n",
       "<style scoped>\n",
       "    .dataframe tbody tr th:only-of-type {\n",
       "        vertical-align: middle;\n",
       "    }\n",
       "\n",
       "    .dataframe tbody tr th {\n",
       "        vertical-align: top;\n",
       "    }\n",
       "\n",
       "    .dataframe thead th {\n",
       "        text-align: right;\n",
       "    }\n",
       "</style>\n",
       "<table border=\"1\" class=\"dataframe\">\n",
       "  <thead>\n",
       "    <tr style=\"text-align: right;\">\n",
       "      <th></th>\n",
       "      <th>Rank</th>\n",
       "      <th>Release_Date</th>\n",
       "      <th>Movie_Title</th>\n",
       "      <th>USD_Production_Budget</th>\n",
       "      <th>USD_Worldwide_Gross</th>\n",
       "      <th>USD_Domestic_Gross</th>\n",
       "    </tr>\n",
       "  </thead>\n",
       "  <tbody>\n",
       "    <tr>\n",
       "      <th>71</th>\n",
       "      <td>4310</td>\n",
       "      <td>1956-02-16</td>\n",
       "      <td>Carousel</td>\n",
       "      <td>3380000</td>\n",
       "      <td>3220</td>\n",
       "      <td>0</td>\n",
       "    </tr>\n",
       "    <tr>\n",
       "      <th>1579</th>\n",
       "      <td>5087</td>\n",
       "      <td>2001-02-11</td>\n",
       "      <td>Everything Put Together</td>\n",
       "      <td>500000</td>\n",
       "      <td>7890</td>\n",
       "      <td>0</td>\n",
       "    </tr>\n",
       "    <tr>\n",
       "      <th>1744</th>\n",
       "      <td>3695</td>\n",
       "      <td>2001-12-31</td>\n",
       "      <td>The Hole</td>\n",
       "      <td>7500000</td>\n",
       "      <td>10834406</td>\n",
       "      <td>0</td>\n",
       "    </tr>\n",
       "    <tr>\n",
       "      <th>2155</th>\n",
       "      <td>4236</td>\n",
       "      <td>2003-12-31</td>\n",
       "      <td>Nothing</td>\n",
       "      <td>4000000</td>\n",
       "      <td>63180</td>\n",
       "      <td>0</td>\n",
       "    </tr>\n",
       "    <tr>\n",
       "      <th>2203</th>\n",
       "      <td>2513</td>\n",
       "      <td>2004-03-31</td>\n",
       "      <td>The Touch</td>\n",
       "      <td>20000000</td>\n",
       "      <td>5918742</td>\n",
       "      <td>0</td>\n",
       "    </tr>\n",
       "    <tr>\n",
       "      <th>...</th>\n",
       "      <td>...</td>\n",
       "      <td>...</td>\n",
       "      <td>...</td>\n",
       "      <td>...</td>\n",
       "      <td>...</td>\n",
       "      <td>...</td>\n",
       "    </tr>\n",
       "    <tr>\n",
       "      <th>5340</th>\n",
       "      <td>1506</td>\n",
       "      <td>2017-04-14</td>\n",
       "      <td>Queen of the Desert</td>\n",
       "      <td>36000000</td>\n",
       "      <td>1480089</td>\n",
       "      <td>0</td>\n",
       "    </tr>\n",
       "    <tr>\n",
       "      <th>5348</th>\n",
       "      <td>2225</td>\n",
       "      <td>2017-05-05</td>\n",
       "      <td>Chāi dàn zhuānjiā</td>\n",
       "      <td>23000000</td>\n",
       "      <td>58807172</td>\n",
       "      <td>0</td>\n",
       "    </tr>\n",
       "    <tr>\n",
       "      <th>5360</th>\n",
       "      <td>4832</td>\n",
       "      <td>2017-07-03</td>\n",
       "      <td>Departure</td>\n",
       "      <td>1100000</td>\n",
       "      <td>27561</td>\n",
       "      <td>0</td>\n",
       "    </tr>\n",
       "    <tr>\n",
       "      <th>5372</th>\n",
       "      <td>1856</td>\n",
       "      <td>2017-08-25</td>\n",
       "      <td>Ballerina</td>\n",
       "      <td>30000000</td>\n",
       "      <td>48048527</td>\n",
       "      <td>0</td>\n",
       "    </tr>\n",
       "    <tr>\n",
       "      <th>5374</th>\n",
       "      <td>4237</td>\n",
       "      <td>2017-08-25</td>\n",
       "      <td>Polina danser sa vie</td>\n",
       "      <td>4000000</td>\n",
       "      <td>36630</td>\n",
       "      <td>0</td>\n",
       "    </tr>\n",
       "  </tbody>\n",
       "</table>\n",
       "<p>155 rows × 6 columns</p>\n",
       "</div>"
      ],
      "text/plain": [
       "      Rank Release_Date              Movie_Title  USD_Production_Budget  \\\n",
       "71    4310   1956-02-16                 Carousel                3380000   \n",
       "1579  5087   2001-02-11  Everything Put Together                 500000   \n",
       "1744  3695   2001-12-31                 The Hole                7500000   \n",
       "2155  4236   2003-12-31                  Nothing                4000000   \n",
       "2203  2513   2004-03-31                The Touch               20000000   \n",
       "...    ...          ...                      ...                    ...   \n",
       "5340  1506   2017-04-14      Queen of the Desert               36000000   \n",
       "5348  2225   2017-05-05        Chāi dàn zhuānjiā               23000000   \n",
       "5360  4832   2017-07-03                Departure                1100000   \n",
       "5372  1856   2017-08-25                Ballerina               30000000   \n",
       "5374  4237   2017-08-25     Polina danser sa vie                4000000   \n",
       "\n",
       "      USD_Worldwide_Gross  USD_Domestic_Gross  \n",
       "71                   3220                   0  \n",
       "1579                 7890                   0  \n",
       "1744             10834406                   0  \n",
       "2155                63180                   0  \n",
       "2203              5918742                   0  \n",
       "...                   ...                 ...  \n",
       "5340              1480089                   0  \n",
       "5348             58807172                   0  \n",
       "5360                27561                   0  \n",
       "5372             48048527                   0  \n",
       "5374                36630                   0  \n",
       "\n",
       "[155 rows x 6 columns]"
      ]
     },
     "execution_count": 123,
     "metadata": {},
     "output_type": "execute_result"
    }
   ],
   "source": [
    "international_releases2 = data.query('USD_Domestic_Gross == 0 and USD_Worldwide_Gross != 0')\n",
    "international_releases2"
   ]
  },
  {
   "cell_type": "markdown",
   "metadata": {
    "id": "EM-FTE4OZhfr"
   },
   "source": [
    "### Unreleased Films\n",
    "\n",
    "**Challenge**:\n",
    "* Identify which films were not released yet as of the time of data collection (May 1st, 2018).\n",
    "* How many films are included in the dataset that have not yet had a chance to be screened in the box office? \n",
    "* Create another DataFrame called data_clean that does not include these films. "
   ]
  },
  {
   "cell_type": "code",
   "execution_count": 124,
   "metadata": {
    "id": "PIukYVY9Zpxu"
   },
   "outputs": [],
   "source": [
    "# Date of Data Collection\n",
    "scrape_date = pd.Timestamp('2018-5-1')"
   ]
  },
  {
   "cell_type": "code",
   "execution_count": 125,
   "metadata": {
    "id": "OAI0VsM3Tc6v"
   },
   "outputs": [
    {
     "data": {
      "text/html": [
       "<div>\n",
       "<style scoped>\n",
       "    .dataframe tbody tr th:only-of-type {\n",
       "        vertical-align: middle;\n",
       "    }\n",
       "\n",
       "    .dataframe tbody tr th {\n",
       "        vertical-align: top;\n",
       "    }\n",
       "\n",
       "    .dataframe thead th {\n",
       "        text-align: right;\n",
       "    }\n",
       "</style>\n",
       "<table border=\"1\" class=\"dataframe\">\n",
       "  <thead>\n",
       "    <tr style=\"text-align: right;\">\n",
       "      <th></th>\n",
       "      <th>Rank</th>\n",
       "      <th>Release_Date</th>\n",
       "      <th>Movie_Title</th>\n",
       "      <th>USD_Production_Budget</th>\n",
       "      <th>USD_Worldwide_Gross</th>\n",
       "      <th>USD_Domestic_Gross</th>\n",
       "    </tr>\n",
       "  </thead>\n",
       "  <tbody>\n",
       "    <tr>\n",
       "      <th>5384</th>\n",
       "      <td>321</td>\n",
       "      <td>2018-09-03</td>\n",
       "      <td>A Wrinkle in Time</td>\n",
       "      <td>103000000</td>\n",
       "      <td>0</td>\n",
       "      <td>0</td>\n",
       "    </tr>\n",
       "    <tr>\n",
       "      <th>5385</th>\n",
       "      <td>366</td>\n",
       "      <td>2018-10-08</td>\n",
       "      <td>Amusement Park</td>\n",
       "      <td>100000000</td>\n",
       "      <td>0</td>\n",
       "      <td>0</td>\n",
       "    </tr>\n",
       "    <tr>\n",
       "      <th>5386</th>\n",
       "      <td>2950</td>\n",
       "      <td>2018-10-08</td>\n",
       "      <td>Meg</td>\n",
       "      <td>15000000</td>\n",
       "      <td>0</td>\n",
       "      <td>0</td>\n",
       "    </tr>\n",
       "    <tr>\n",
       "      <th>5387</th>\n",
       "      <td>126</td>\n",
       "      <td>2018-12-18</td>\n",
       "      <td>Aquaman</td>\n",
       "      <td>160000000</td>\n",
       "      <td>0</td>\n",
       "      <td>0</td>\n",
       "    </tr>\n",
       "    <tr>\n",
       "      <th>5388</th>\n",
       "      <td>96</td>\n",
       "      <td>2020-12-31</td>\n",
       "      <td>Singularity</td>\n",
       "      <td>175000000</td>\n",
       "      <td>0</td>\n",
       "      <td>0</td>\n",
       "    </tr>\n",
       "    <tr>\n",
       "      <th>5389</th>\n",
       "      <td>1119</td>\n",
       "      <td>2020-12-31</td>\n",
       "      <td>Hannibal the Conqueror</td>\n",
       "      <td>50000000</td>\n",
       "      <td>0</td>\n",
       "      <td>0</td>\n",
       "    </tr>\n",
       "    <tr>\n",
       "      <th>5390</th>\n",
       "      <td>2517</td>\n",
       "      <td>2020-12-31</td>\n",
       "      <td>Story of Bonnie and Clyde, The</td>\n",
       "      <td>20000000</td>\n",
       "      <td>0</td>\n",
       "      <td>0</td>\n",
       "    </tr>\n",
       "  </tbody>\n",
       "</table>\n",
       "</div>"
      ],
      "text/plain": [
       "      Rank Release_Date                     Movie_Title  \\\n",
       "5384   321   2018-09-03               A Wrinkle in Time   \n",
       "5385   366   2018-10-08                  Amusement Park   \n",
       "5386  2950   2018-10-08                             Meg   \n",
       "5387   126   2018-12-18                         Aquaman   \n",
       "5388    96   2020-12-31                     Singularity   \n",
       "5389  1119   2020-12-31          Hannibal the Conqueror   \n",
       "5390  2517   2020-12-31  Story of Bonnie and Clyde, The   \n",
       "\n",
       "      USD_Production_Budget  USD_Worldwide_Gross  USD_Domestic_Gross  \n",
       "5384              103000000                    0                   0  \n",
       "5385              100000000                    0                   0  \n",
       "5386               15000000                    0                   0  \n",
       "5387              160000000                    0                   0  \n",
       "5388              175000000                    0                   0  \n",
       "5389               50000000                    0                   0  \n",
       "5390               20000000                    0                   0  "
      ]
     },
     "execution_count": 125,
     "metadata": {},
     "output_type": "execute_result"
    }
   ],
   "source": [
    "future_releases = data[data.Release_Date >= scrape_date]\n",
    "future_releases"
   ]
  },
  {
   "cell_type": "code",
   "execution_count": 126,
   "metadata": {},
   "outputs": [
    {
     "data": {
      "text/html": [
       "<div>\n",
       "<style scoped>\n",
       "    .dataframe tbody tr th:only-of-type {\n",
       "        vertical-align: middle;\n",
       "    }\n",
       "\n",
       "    .dataframe tbody tr th {\n",
       "        vertical-align: top;\n",
       "    }\n",
       "\n",
       "    .dataframe thead th {\n",
       "        text-align: right;\n",
       "    }\n",
       "</style>\n",
       "<table border=\"1\" class=\"dataframe\">\n",
       "  <thead>\n",
       "    <tr style=\"text-align: right;\">\n",
       "      <th></th>\n",
       "      <th>Rank</th>\n",
       "      <th>Release_Date</th>\n",
       "      <th>Movie_Title</th>\n",
       "      <th>USD_Production_Budget</th>\n",
       "      <th>USD_Worldwide_Gross</th>\n",
       "      <th>USD_Domestic_Gross</th>\n",
       "    </tr>\n",
       "  </thead>\n",
       "  <tbody>\n",
       "    <tr>\n",
       "      <th>0</th>\n",
       "      <td>5293</td>\n",
       "      <td>1915-08-02</td>\n",
       "      <td>The Birth of a Nation</td>\n",
       "      <td>110000</td>\n",
       "      <td>11000000</td>\n",
       "      <td>10000000</td>\n",
       "    </tr>\n",
       "    <tr>\n",
       "      <th>1</th>\n",
       "      <td>5140</td>\n",
       "      <td>1916-05-09</td>\n",
       "      <td>Intolerance</td>\n",
       "      <td>385907</td>\n",
       "      <td>0</td>\n",
       "      <td>0</td>\n",
       "    </tr>\n",
       "    <tr>\n",
       "      <th>2</th>\n",
       "      <td>5230</td>\n",
       "      <td>1916-12-24</td>\n",
       "      <td>20,000 Leagues Under the Sea</td>\n",
       "      <td>200000</td>\n",
       "      <td>8000000</td>\n",
       "      <td>8000000</td>\n",
       "    </tr>\n",
       "    <tr>\n",
       "      <th>3</th>\n",
       "      <td>5299</td>\n",
       "      <td>1920-09-17</td>\n",
       "      <td>Over the Hill to the Poorhouse</td>\n",
       "      <td>100000</td>\n",
       "      <td>3000000</td>\n",
       "      <td>3000000</td>\n",
       "    </tr>\n",
       "    <tr>\n",
       "      <th>4</th>\n",
       "      <td>5222</td>\n",
       "      <td>1925-01-01</td>\n",
       "      <td>The Big Parade</td>\n",
       "      <td>245000</td>\n",
       "      <td>22000000</td>\n",
       "      <td>11000000</td>\n",
       "    </tr>\n",
       "    <tr>\n",
       "      <th>...</th>\n",
       "      <td>...</td>\n",
       "      <td>...</td>\n",
       "      <td>...</td>\n",
       "      <td>...</td>\n",
       "      <td>...</td>\n",
       "      <td>...</td>\n",
       "    </tr>\n",
       "    <tr>\n",
       "      <th>5379</th>\n",
       "      <td>1295</td>\n",
       "      <td>2017-10-02</td>\n",
       "      <td>John Wick: Chapter Two</td>\n",
       "      <td>40000000</td>\n",
       "      <td>166893990</td>\n",
       "      <td>92029184</td>\n",
       "    </tr>\n",
       "    <tr>\n",
       "      <th>5380</th>\n",
       "      <td>70</td>\n",
       "      <td>2017-10-03</td>\n",
       "      <td>Kong: Skull Island</td>\n",
       "      <td>185000000</td>\n",
       "      <td>561137727</td>\n",
       "      <td>168052812</td>\n",
       "    </tr>\n",
       "    <tr>\n",
       "      <th>5381</th>\n",
       "      <td>94</td>\n",
       "      <td>2017-12-05</td>\n",
       "      <td>King Arthur: Legend of the Sword</td>\n",
       "      <td>175000000</td>\n",
       "      <td>140012608</td>\n",
       "      <td>39175066</td>\n",
       "    </tr>\n",
       "    <tr>\n",
       "      <th>5382</th>\n",
       "      <td>1254</td>\n",
       "      <td>2017-12-05</td>\n",
       "      <td>Snatched</td>\n",
       "      <td>42000000</td>\n",
       "      <td>57850343</td>\n",
       "      <td>45850343</td>\n",
       "    </tr>\n",
       "    <tr>\n",
       "      <th>5383</th>\n",
       "      <td>2521</td>\n",
       "      <td>2017-12-31</td>\n",
       "      <td>The Thousand Miles</td>\n",
       "      <td>20000000</td>\n",
       "      <td>0</td>\n",
       "      <td>0</td>\n",
       "    </tr>\n",
       "  </tbody>\n",
       "</table>\n",
       "<p>5384 rows × 6 columns</p>\n",
       "</div>"
      ],
      "text/plain": [
       "      Rank Release_Date                       Movie_Title  \\\n",
       "0     5293   1915-08-02             The Birth of a Nation   \n",
       "1     5140   1916-05-09                       Intolerance   \n",
       "2     5230   1916-12-24      20,000 Leagues Under the Sea   \n",
       "3     5299   1920-09-17    Over the Hill to the Poorhouse   \n",
       "4     5222   1925-01-01                    The Big Parade   \n",
       "...    ...          ...                               ...   \n",
       "5379  1295   2017-10-02            John Wick: Chapter Two   \n",
       "5380    70   2017-10-03                Kong: Skull Island   \n",
       "5381    94   2017-12-05  King Arthur: Legend of the Sword   \n",
       "5382  1254   2017-12-05                          Snatched   \n",
       "5383  2521   2017-12-31                The Thousand Miles   \n",
       "\n",
       "      USD_Production_Budget  USD_Worldwide_Gross  USD_Domestic_Gross  \n",
       "0                    110000             11000000            10000000  \n",
       "1                    385907                    0                   0  \n",
       "2                    200000              8000000             8000000  \n",
       "3                    100000              3000000             3000000  \n",
       "4                    245000             22000000            11000000  \n",
       "...                     ...                  ...                 ...  \n",
       "5379               40000000            166893990            92029184  \n",
       "5380              185000000            561137727           168052812  \n",
       "5381              175000000            140012608            39175066  \n",
       "5382               42000000             57850343            45850343  \n",
       "5383               20000000                    0                   0  \n",
       "\n",
       "[5384 rows x 6 columns]"
      ]
     },
     "execution_count": 126,
     "metadata": {},
     "output_type": "execute_result"
    }
   ],
   "source": [
    "data_clean = data.drop(future_releases.index)\n",
    "data_clean\n"
   ]
  },
  {
   "cell_type": "markdown",
   "metadata": {
    "id": "khrJcXlGZWZO"
   },
   "source": [
    "### Films that Lost Money\n",
    "\n",
    "**Challenge**: \n",
    "What is the percentage of films where the production costs exceeded the worldwide gross revenue? "
   ]
  },
  {
   "cell_type": "code",
   "execution_count": 127,
   "metadata": {
    "id": "7uW_U9StTgvZ"
   },
   "outputs": [
    {
     "data": {
      "text/html": [
       "<div>\n",
       "<style scoped>\n",
       "    .dataframe tbody tr th:only-of-type {\n",
       "        vertical-align: middle;\n",
       "    }\n",
       "\n",
       "    .dataframe tbody tr th {\n",
       "        vertical-align: top;\n",
       "    }\n",
       "\n",
       "    .dataframe thead th {\n",
       "        text-align: right;\n",
       "    }\n",
       "</style>\n",
       "<table border=\"1\" class=\"dataframe\">\n",
       "  <thead>\n",
       "    <tr style=\"text-align: right;\">\n",
       "      <th></th>\n",
       "      <th>Rank</th>\n",
       "      <th>Release_Date</th>\n",
       "      <th>Movie_Title</th>\n",
       "      <th>USD_Production_Budget</th>\n",
       "      <th>USD_Worldwide_Gross</th>\n",
       "      <th>USD_Domestic_Gross</th>\n",
       "    </tr>\n",
       "  </thead>\n",
       "  <tbody>\n",
       "    <tr>\n",
       "      <th>1</th>\n",
       "      <td>5140</td>\n",
       "      <td>1916-05-09</td>\n",
       "      <td>Intolerance</td>\n",
       "      <td>385907</td>\n",
       "      <td>0</td>\n",
       "      <td>0</td>\n",
       "    </tr>\n",
       "    <tr>\n",
       "      <th>6</th>\n",
       "      <td>4630</td>\n",
       "      <td>1927-12-08</td>\n",
       "      <td>Wings</td>\n",
       "      <td>2000000</td>\n",
       "      <td>0</td>\n",
       "      <td>0</td>\n",
       "    </tr>\n",
       "    <tr>\n",
       "      <th>8</th>\n",
       "      <td>4240</td>\n",
       "      <td>1930-01-01</td>\n",
       "      <td>Hell's Angels</td>\n",
       "      <td>4000000</td>\n",
       "      <td>0</td>\n",
       "      <td>0</td>\n",
       "    </tr>\n",
       "    <tr>\n",
       "      <th>15</th>\n",
       "      <td>4738</td>\n",
       "      <td>1936-05-02</td>\n",
       "      <td>Modern Times</td>\n",
       "      <td>1500000</td>\n",
       "      <td>165049</td>\n",
       "      <td>163245</td>\n",
       "    </tr>\n",
       "    <tr>\n",
       "      <th>17</th>\n",
       "      <td>4814</td>\n",
       "      <td>1936-10-20</td>\n",
       "      <td>Charge of the Light Brigade, The</td>\n",
       "      <td>1200000</td>\n",
       "      <td>0</td>\n",
       "      <td>0</td>\n",
       "    </tr>\n",
       "    <tr>\n",
       "      <th>...</th>\n",
       "      <td>...</td>\n",
       "      <td>...</td>\n",
       "      <td>...</td>\n",
       "      <td>...</td>\n",
       "      <td>...</td>\n",
       "      <td>...</td>\n",
       "    </tr>\n",
       "    <tr>\n",
       "      <th>5371</th>\n",
       "      <td>4901</td>\n",
       "      <td>2017-07-28</td>\n",
       "      <td>An Inconvenient Sequel</td>\n",
       "      <td>1000000</td>\n",
       "      <td>130874</td>\n",
       "      <td>130874</td>\n",
       "    </tr>\n",
       "    <tr>\n",
       "      <th>5373</th>\n",
       "      <td>2161</td>\n",
       "      <td>2017-08-25</td>\n",
       "      <td>Tulip Fever</td>\n",
       "      <td>25000000</td>\n",
       "      <td>0</td>\n",
       "      <td>0</td>\n",
       "    </tr>\n",
       "    <tr>\n",
       "      <th>5374</th>\n",
       "      <td>4237</td>\n",
       "      <td>2017-08-25</td>\n",
       "      <td>Polina danser sa vie</td>\n",
       "      <td>4000000</td>\n",
       "      <td>36630</td>\n",
       "      <td>0</td>\n",
       "    </tr>\n",
       "    <tr>\n",
       "      <th>5381</th>\n",
       "      <td>94</td>\n",
       "      <td>2017-12-05</td>\n",
       "      <td>King Arthur: Legend of the Sword</td>\n",
       "      <td>175000000</td>\n",
       "      <td>140012608</td>\n",
       "      <td>39175066</td>\n",
       "    </tr>\n",
       "    <tr>\n",
       "      <th>5383</th>\n",
       "      <td>2521</td>\n",
       "      <td>2017-12-31</td>\n",
       "      <td>The Thousand Miles</td>\n",
       "      <td>20000000</td>\n",
       "      <td>0</td>\n",
       "      <td>0</td>\n",
       "    </tr>\n",
       "  </tbody>\n",
       "</table>\n",
       "<p>2007 rows × 6 columns</p>\n",
       "</div>"
      ],
      "text/plain": [
       "      Rank Release_Date                       Movie_Title  \\\n",
       "1     5140   1916-05-09                       Intolerance   \n",
       "6     4630   1927-12-08                             Wings   \n",
       "8     4240   1930-01-01                     Hell's Angels   \n",
       "15    4738   1936-05-02                      Modern Times   \n",
       "17    4814   1936-10-20  Charge of the Light Brigade, The   \n",
       "...    ...          ...                               ...   \n",
       "5371  4901   2017-07-28            An Inconvenient Sequel   \n",
       "5373  2161   2017-08-25                       Tulip Fever   \n",
       "5374  4237   2017-08-25              Polina danser sa vie   \n",
       "5381    94   2017-12-05  King Arthur: Legend of the Sword   \n",
       "5383  2521   2017-12-31                The Thousand Miles   \n",
       "\n",
       "      USD_Production_Budget  USD_Worldwide_Gross  USD_Domestic_Gross  \n",
       "1                    385907                    0                   0  \n",
       "6                   2000000                    0                   0  \n",
       "8                   4000000                    0                   0  \n",
       "15                  1500000               165049              163245  \n",
       "17                  1200000                    0                   0  \n",
       "...                     ...                  ...                 ...  \n",
       "5371                1000000               130874              130874  \n",
       "5373               25000000                    0                   0  \n",
       "5374                4000000                36630                   0  \n",
       "5381              175000000            140012608            39175066  \n",
       "5383               20000000                    0                   0  \n",
       "\n",
       "[2007 rows x 6 columns]"
      ]
     },
     "execution_count": 127,
     "metadata": {},
     "output_type": "execute_result"
    }
   ],
   "source": [
    "losing_money = data_clean.loc[data_clean.USD_Worldwide_Gross < data_clean.USD_Production_Budget]\n",
    "losing_money"
   ]
  },
  {
   "cell_type": "code",
   "execution_count": 128,
   "metadata": {},
   "outputs": [
    {
     "data": {
      "text/plain": [
       "0.37277117384843983"
      ]
     },
     "execution_count": 128,
     "metadata": {},
     "output_type": "execute_result"
    }
   ],
   "source": [
    "len(losing_money)/len(data_clean)"
   ]
  },
  {
   "cell_type": "markdown",
   "metadata": {
    "id": "cfJUL3WwyiDy"
   },
   "source": [
    "# Seaborn for Data Viz: Bubble Charts"
   ]
  },
  {
   "cell_type": "code",
   "execution_count": 129,
   "metadata": {
    "id": "YXa3bp1uTiSS"
   },
   "outputs": [],
   "source": [
    "import seaborn as sns"
   ]
  },
  {
   "cell_type": "markdown",
   "metadata": {
    "id": "e7NIOiL2y3en"
   },
   "source": [
    "### Plotting Movie Releases over Time\n",
    "\n",
    "**Challenge**: Try to create the following Bubble Chart:\n",
    "\n",
    "<img src=https://i.imgur.com/8fUn9T6.png>\n",
    "\n"
   ]
  },
  {
   "cell_type": "code",
   "execution_count": 130,
   "metadata": {
    "id": "OT0D-i3HTmsB",
    "scrolled": true
   },
   "outputs": [
    {
     "data": {
      "image/png": "[encoded data removed]",
      "text/plain": [
       "<Figure size 1200x600 with 1 Axes>"
      ]
     },
     "metadata": {},
     "output_type": "display_data"
    }
   ],
   "source": [
    "plt.figure(figsize = (8,4), dpi=150)\n",
    "\n",
    "with sns.axes_style('darkgrid'):\n",
    "    ax = sns.scatterplot(data=data_clean, \n",
    "                     x='Release_Date', \n",
    "                     y='USD_Production_Budget', \n",
    "                     hue = 'USD_Worldwide_Gross',\n",
    "                     size = 'USD_Worldwide_Gross')\n",
    "    ax.set(ylim = (0, 450000000),\n",
    "       xlim = (data_clean.Release_Date.min(), data_clean.Release_Date.max()),\n",
    "       ylabel = 'Budget in $100Billions',\n",
    "       xlabel = 'Year')\n",
    "    \n",
    "plt.show()"
   ]
  },
  {
   "cell_type": "markdown",
   "metadata": {
    "id": "r_2hFz9py84b"
   },
   "source": [
    "# Converting Years to Decades Trick\n",
    "\n",
    "**Challenge**: Create a column in `data_clean` that has the decade of the release. \n",
    "\n",
    "<img src=https://i.imgur.com/0VEfagw.png width=650> \n",
    "\n",
    "Here's how: \n",
    "1. Create a [`DatetimeIndex` object](https://pandas.pydata.org/pandas-docs/stable/reference/api/pandas.DatetimeIndex.html) from the Release_Date column. \n",
    "2. Grab all the years from the `DatetimeIndex` object using the `.year` property.\n",
    "<img src=https://i.imgur.com/5m06Ach.png width=650>\n",
    "3. Use floor division `//` to convert the year data to the decades of the films.\n",
    "4. Add the decades as a `Decade` column to the `data_clean` DataFrame."
   ]
  },
  {
   "cell_type": "code",
   "execution_count": 131,
   "metadata": {
    "id": "lak08IPMTn-j"
   },
   "outputs": [
    {
     "data": {
      "text/plain": [
       "DatetimeIndex(['1915-08-02', '1916-05-09', '1916-12-24', '1920-09-17',\n",
       "               '1925-01-01', '1925-12-30', '1927-12-08', '1929-01-02',\n",
       "               '1930-01-01', '1931-12-31',\n",
       "               ...\n",
       "               '2017-08-25', '2017-09-06', '2017-09-06', '2017-10-02',\n",
       "               '2017-10-02', '2017-10-02', '2017-10-03', '2017-12-05',\n",
       "               '2017-12-05', '2017-12-31'],\n",
       "              dtype='datetime64[ns]', name='Release_Date', length=5384, freq=None)"
      ]
     },
     "execution_count": 131,
     "metadata": {},
     "output_type": "execute_result"
    }
   ],
   "source": [
    "dt_index = pd.DatetimeIndex(data_clean.Release_Date)\n",
    "dt_index"
   ]
  },
  {
   "cell_type": "markdown",
   "metadata": {},
   "source": [
    "### Turn dates into years"
   ]
  },
  {
   "cell_type": "code",
   "execution_count": 132,
   "metadata": {},
   "outputs": [
    {
     "data": {
      "text/plain": [
       "Index([1915, 1916, 1916, 1920, 1925, 1925, 1927, 1929, 1930, 1931,\n",
       "       ...\n",
       "       2017, 2017, 2017, 2017, 2017, 2017, 2017, 2017, 2017, 2017],\n",
       "      dtype='int32', name='Release_Date', length=5384)"
      ]
     },
     "execution_count": 132,
     "metadata": {},
     "output_type": "execute_result"
    }
   ],
   "source": [
    "years = dt_index.year\n",
    "years"
   ]
  },
  {
   "cell_type": "markdown",
   "metadata": {},
   "source": [
    "### Turn years into decades with floor dicision. 1995 / 10 = 199.5 , alla 1995 // 10 = 199. Ara 199 * 10 = 1990"
   ]
  },
  {
   "cell_type": "code",
   "execution_count": 133,
   "metadata": {},
   "outputs": [
    {
     "data": {
      "text/plain": [
       "Index([1910, 1910, 1910, 1920, 1920, 1920, 1920, 1920, 1930, 1930,\n",
       "       ...\n",
       "       2010, 2010, 2010, 2010, 2010, 2010, 2010, 2010, 2010, 2010],\n",
       "      dtype='int32', name='Release_Date', length=5384)"
      ]
     },
     "execution_count": 133,
     "metadata": {},
     "output_type": "execute_result"
    }
   ],
   "source": [
    "decades = (years // 10)*10\n",
    "decades"
   ]
  },
  {
   "cell_type": "markdown",
   "metadata": {},
   "source": [
    "### Add a \"Decades\" column in the data frame"
   ]
  },
  {
   "cell_type": "code",
   "execution_count": 134,
   "metadata": {},
   "outputs": [
    {
     "data": {
      "text/html": [
       "<div>\n",
       "<style scoped>\n",
       "    .dataframe tbody tr th:only-of-type {\n",
       "        vertical-align: middle;\n",
       "    }\n",
       "\n",
       "    .dataframe tbody tr th {\n",
       "        vertical-align: top;\n",
       "    }\n",
       "\n",
       "    .dataframe thead th {\n",
       "        text-align: right;\n",
       "    }\n",
       "</style>\n",
       "<table border=\"1\" class=\"dataframe\">\n",
       "  <thead>\n",
       "    <tr style=\"text-align: right;\">\n",
       "      <th></th>\n",
       "      <th>Rank</th>\n",
       "      <th>Release_Date</th>\n",
       "      <th>Movie_Title</th>\n",
       "      <th>USD_Production_Budget</th>\n",
       "      <th>USD_Worldwide_Gross</th>\n",
       "      <th>USD_Domestic_Gross</th>\n",
       "      <th>Decade</th>\n",
       "    </tr>\n",
       "  </thead>\n",
       "  <tbody>\n",
       "    <tr>\n",
       "      <th>0</th>\n",
       "      <td>5293</td>\n",
       "      <td>1915-08-02</td>\n",
       "      <td>The Birth of a Nation</td>\n",
       "      <td>110000</td>\n",
       "      <td>11000000</td>\n",
       "      <td>10000000</td>\n",
       "      <td>1910</td>\n",
       "    </tr>\n",
       "    <tr>\n",
       "      <th>1</th>\n",
       "      <td>5140</td>\n",
       "      <td>1916-05-09</td>\n",
       "      <td>Intolerance</td>\n",
       "      <td>385907</td>\n",
       "      <td>0</td>\n",
       "      <td>0</td>\n",
       "      <td>1910</td>\n",
       "    </tr>\n",
       "    <tr>\n",
       "      <th>2</th>\n",
       "      <td>5230</td>\n",
       "      <td>1916-12-24</td>\n",
       "      <td>20,000 Leagues Under the Sea</td>\n",
       "      <td>200000</td>\n",
       "      <td>8000000</td>\n",
       "      <td>8000000</td>\n",
       "      <td>1910</td>\n",
       "    </tr>\n",
       "    <tr>\n",
       "      <th>3</th>\n",
       "      <td>5299</td>\n",
       "      <td>1920-09-17</td>\n",
       "      <td>Over the Hill to the Poorhouse</td>\n",
       "      <td>100000</td>\n",
       "      <td>3000000</td>\n",
       "      <td>3000000</td>\n",
       "      <td>1920</td>\n",
       "    </tr>\n",
       "    <tr>\n",
       "      <th>4</th>\n",
       "      <td>5222</td>\n",
       "      <td>1925-01-01</td>\n",
       "      <td>The Big Parade</td>\n",
       "      <td>245000</td>\n",
       "      <td>22000000</td>\n",
       "      <td>11000000</td>\n",
       "      <td>1920</td>\n",
       "    </tr>\n",
       "    <tr>\n",
       "      <th>...</th>\n",
       "      <td>...</td>\n",
       "      <td>...</td>\n",
       "      <td>...</td>\n",
       "      <td>...</td>\n",
       "      <td>...</td>\n",
       "      <td>...</td>\n",
       "      <td>...</td>\n",
       "    </tr>\n",
       "    <tr>\n",
       "      <th>5379</th>\n",
       "      <td>1295</td>\n",
       "      <td>2017-10-02</td>\n",
       "      <td>John Wick: Chapter Two</td>\n",
       "      <td>40000000</td>\n",
       "      <td>166893990</td>\n",
       "      <td>92029184</td>\n",
       "      <td>2010</td>\n",
       "    </tr>\n",
       "    <tr>\n",
       "      <th>5380</th>\n",
       "      <td>70</td>\n",
       "      <td>2017-10-03</td>\n",
       "      <td>Kong: Skull Island</td>\n",
       "      <td>185000000</td>\n",
       "      <td>561137727</td>\n",
       "      <td>168052812</td>\n",
       "      <td>2010</td>\n",
       "    </tr>\n",
       "    <tr>\n",
       "      <th>5381</th>\n",
       "      <td>94</td>\n",
       "      <td>2017-12-05</td>\n",
       "      <td>King Arthur: Legend of the Sword</td>\n",
       "      <td>175000000</td>\n",
       "      <td>140012608</td>\n",
       "      <td>39175066</td>\n",
       "      <td>2010</td>\n",
       "    </tr>\n",
       "    <tr>\n",
       "      <th>5382</th>\n",
       "      <td>1254</td>\n",
       "      <td>2017-12-05</td>\n",
       "      <td>Snatched</td>\n",
       "      <td>42000000</td>\n",
       "      <td>57850343</td>\n",
       "      <td>45850343</td>\n",
       "      <td>2010</td>\n",
       "    </tr>\n",
       "    <tr>\n",
       "      <th>5383</th>\n",
       "      <td>2521</td>\n",
       "      <td>2017-12-31</td>\n",
       "      <td>The Thousand Miles</td>\n",
       "      <td>20000000</td>\n",
       "      <td>0</td>\n",
       "      <td>0</td>\n",
       "      <td>2010</td>\n",
       "    </tr>\n",
       "  </tbody>\n",
       "</table>\n",
       "<p>5384 rows × 7 columns</p>\n",
       "</div>"
      ],
      "text/plain": [
       "      Rank Release_Date                       Movie_Title  \\\n",
       "0     5293   1915-08-02             The Birth of a Nation   \n",
       "1     5140   1916-05-09                       Intolerance   \n",
       "2     5230   1916-12-24      20,000 Leagues Under the Sea   \n",
       "3     5299   1920-09-17    Over the Hill to the Poorhouse   \n",
       "4     5222   1925-01-01                    The Big Parade   \n",
       "...    ...          ...                               ...   \n",
       "5379  1295   2017-10-02            John Wick: Chapter Two   \n",
       "5380    70   2017-10-03                Kong: Skull Island   \n",
       "5381    94   2017-12-05  King Arthur: Legend of the Sword   \n",
       "5382  1254   2017-12-05                          Snatched   \n",
       "5383  2521   2017-12-31                The Thousand Miles   \n",
       "\n",
       "      USD_Production_Budget  USD_Worldwide_Gross  USD_Domestic_Gross  Decade  \n",
       "0                    110000             11000000            10000000    1910  \n",
       "1                    385907                    0                   0    1910  \n",
       "2                    200000              8000000             8000000    1910  \n",
       "3                    100000              3000000             3000000    1920  \n",
       "4                    245000             22000000            11000000    1920  \n",
       "...                     ...                  ...                 ...     ...  \n",
       "5379               40000000            166893990            92029184    2010  \n",
       "5380              185000000            561137727           168052812    2010  \n",
       "5381              175000000            140012608            39175066    2010  \n",
       "5382               42000000             57850343            45850343    2010  \n",
       "5383               20000000                    0                   0    2010  \n",
       "\n",
       "[5384 rows x 7 columns]"
      ]
     },
     "execution_count": 134,
     "metadata": {},
     "output_type": "execute_result"
    }
   ],
   "source": [
    "data_clean['Decade'] = decades\n",
    "data_clean"
   ]
  },
  {
   "cell_type": "markdown",
   "metadata": {
    "id": "q-X7NK_9zIz9"
   },
   "source": [
    "### Separate the \"old\" (before 1969) and \"New\" (1970s onwards) Films\n",
    "\n",
    "**Challenge**: Create two new DataFrames: `old_films` and `new_films`\n",
    "* `old_films` should include all the films before 1969 (up to and including 1969)\n",
    "* `new_films` should include all the films from 1970 onwards\n",
    "* How many films were released prior to 1970?\n",
    "* What was the most expensive film made prior to 1970?"
   ]
  },
  {
   "cell_type": "code",
   "execution_count": 135,
   "metadata": {
    "id": "qe93nMcBTqQz"
   },
   "outputs": [
    {
     "data": {
      "text/html": [
       "<div>\n",
       "<style scoped>\n",
       "    .dataframe tbody tr th:only-of-type {\n",
       "        vertical-align: middle;\n",
       "    }\n",
       "\n",
       "    .dataframe tbody tr th {\n",
       "        vertical-align: top;\n",
       "    }\n",
       "\n",
       "    .dataframe thead th {\n",
       "        text-align: right;\n",
       "    }\n",
       "</style>\n",
       "<table border=\"1\" class=\"dataframe\">\n",
       "  <thead>\n",
       "    <tr style=\"text-align: right;\">\n",
       "      <th></th>\n",
       "      <th>Rank</th>\n",
       "      <th>Release_Date</th>\n",
       "      <th>Movie_Title</th>\n",
       "      <th>USD_Production_Budget</th>\n",
       "      <th>USD_Worldwide_Gross</th>\n",
       "      <th>USD_Domestic_Gross</th>\n",
       "      <th>Decade</th>\n",
       "    </tr>\n",
       "  </thead>\n",
       "  <tbody>\n",
       "    <tr>\n",
       "      <th>0</th>\n",
       "      <td>5293</td>\n",
       "      <td>1915-08-02</td>\n",
       "      <td>The Birth of a Nation</td>\n",
       "      <td>110000</td>\n",
       "      <td>11000000</td>\n",
       "      <td>10000000</td>\n",
       "      <td>1910</td>\n",
       "    </tr>\n",
       "    <tr>\n",
       "      <th>1</th>\n",
       "      <td>5140</td>\n",
       "      <td>1916-05-09</td>\n",
       "      <td>Intolerance</td>\n",
       "      <td>385907</td>\n",
       "      <td>0</td>\n",
       "      <td>0</td>\n",
       "      <td>1910</td>\n",
       "    </tr>\n",
       "    <tr>\n",
       "      <th>2</th>\n",
       "      <td>5230</td>\n",
       "      <td>1916-12-24</td>\n",
       "      <td>20,000 Leagues Under the Sea</td>\n",
       "      <td>200000</td>\n",
       "      <td>8000000</td>\n",
       "      <td>8000000</td>\n",
       "      <td>1910</td>\n",
       "    </tr>\n",
       "    <tr>\n",
       "      <th>3</th>\n",
       "      <td>5299</td>\n",
       "      <td>1920-09-17</td>\n",
       "      <td>Over the Hill to the Poorhouse</td>\n",
       "      <td>100000</td>\n",
       "      <td>3000000</td>\n",
       "      <td>3000000</td>\n",
       "      <td>1920</td>\n",
       "    </tr>\n",
       "    <tr>\n",
       "      <th>4</th>\n",
       "      <td>5222</td>\n",
       "      <td>1925-01-01</td>\n",
       "      <td>The Big Parade</td>\n",
       "      <td>245000</td>\n",
       "      <td>22000000</td>\n",
       "      <td>11000000</td>\n",
       "      <td>1920</td>\n",
       "    </tr>\n",
       "    <tr>\n",
       "      <th>...</th>\n",
       "      <td>...</td>\n",
       "      <td>...</td>\n",
       "      <td>...</td>\n",
       "      <td>...</td>\n",
       "      <td>...</td>\n",
       "      <td>...</td>\n",
       "      <td>...</td>\n",
       "    </tr>\n",
       "    <tr>\n",
       "      <th>148</th>\n",
       "      <td>2375</td>\n",
       "      <td>1969-10-15</td>\n",
       "      <td>Paint Your Wagon</td>\n",
       "      <td>20000000</td>\n",
       "      <td>31678778</td>\n",
       "      <td>31678778</td>\n",
       "      <td>1960</td>\n",
       "    </tr>\n",
       "    <tr>\n",
       "      <th>149</th>\n",
       "      <td>3831</td>\n",
       "      <td>1969-10-24</td>\n",
       "      <td>Butch Cassidy and the Sundance Kid</td>\n",
       "      <td>6000000</td>\n",
       "      <td>102308900</td>\n",
       "      <td>102308900</td>\n",
       "      <td>1960</td>\n",
       "    </tr>\n",
       "    <tr>\n",
       "      <th>150</th>\n",
       "      <td>2175</td>\n",
       "      <td>1969-12-16</td>\n",
       "      <td>Hello, Dolly</td>\n",
       "      <td>24000000</td>\n",
       "      <td>33208099</td>\n",
       "      <td>33208099</td>\n",
       "      <td>1960</td>\n",
       "    </tr>\n",
       "    <tr>\n",
       "      <th>151</th>\n",
       "      <td>3613</td>\n",
       "      <td>1969-12-18</td>\n",
       "      <td>On Her Majesty's Secret Service</td>\n",
       "      <td>8000000</td>\n",
       "      <td>82000000</td>\n",
       "      <td>22800000</td>\n",
       "      <td>1960</td>\n",
       "    </tr>\n",
       "    <tr>\n",
       "      <th>152</th>\n",
       "      <td>4195</td>\n",
       "      <td>1969-12-19</td>\n",
       "      <td>Topaz</td>\n",
       "      <td>4000000</td>\n",
       "      <td>6000000</td>\n",
       "      <td>6000000</td>\n",
       "      <td>1960</td>\n",
       "    </tr>\n",
       "  </tbody>\n",
       "</table>\n",
       "<p>153 rows × 7 columns</p>\n",
       "</div>"
      ],
      "text/plain": [
       "     Rank Release_Date                         Movie_Title  \\\n",
       "0    5293   1915-08-02               The Birth of a Nation   \n",
       "1    5140   1916-05-09                         Intolerance   \n",
       "2    5230   1916-12-24        20,000 Leagues Under the Sea   \n",
       "3    5299   1920-09-17      Over the Hill to the Poorhouse   \n",
       "4    5222   1925-01-01                      The Big Parade   \n",
       "..    ...          ...                                 ...   \n",
       "148  2375   1969-10-15                    Paint Your Wagon   \n",
       "149  3831   1969-10-24  Butch Cassidy and the Sundance Kid   \n",
       "150  2175   1969-12-16                        Hello, Dolly   \n",
       "151  3613   1969-12-18     On Her Majesty's Secret Service   \n",
       "152  4195   1969-12-19                               Topaz   \n",
       "\n",
       "     USD_Production_Budget  USD_Worldwide_Gross  USD_Domestic_Gross  Decade  \n",
       "0                   110000             11000000            10000000    1910  \n",
       "1                   385907                    0                   0    1910  \n",
       "2                   200000              8000000             8000000    1910  \n",
       "3                   100000              3000000             3000000    1920  \n",
       "4                   245000             22000000            11000000    1920  \n",
       "..                     ...                  ...                 ...     ...  \n",
       "148               20000000             31678778            31678778    1960  \n",
       "149                6000000            102308900           102308900    1960  \n",
       "150               24000000             33208099            33208099    1960  \n",
       "151                8000000             82000000            22800000    1960  \n",
       "152                4000000              6000000             6000000    1960  \n",
       "\n",
       "[153 rows x 7 columns]"
      ]
     },
     "execution_count": 135,
     "metadata": {},
     "output_type": "execute_result"
    }
   ],
   "source": [
    "old_films = data_clean[data_clean.Decade <= 1969]\n",
    "new_films = data_clean[data_clean.Decade > 1969]\n",
    "old_films"
   ]
  },
  {
   "cell_type": "code",
   "execution_count": 136,
   "metadata": {},
   "outputs": [
    {
     "data": {
      "text/html": [
       "<div>\n",
       "<style scoped>\n",
       "    .dataframe tbody tr th:only-of-type {\n",
       "        vertical-align: middle;\n",
       "    }\n",
       "\n",
       "    .dataframe tbody tr th {\n",
       "        vertical-align: top;\n",
       "    }\n",
       "\n",
       "    .dataframe thead th {\n",
       "        text-align: right;\n",
       "    }\n",
       "</style>\n",
       "<table border=\"1\" class=\"dataframe\">\n",
       "  <thead>\n",
       "    <tr style=\"text-align: right;\">\n",
       "      <th></th>\n",
       "      <th>Rank</th>\n",
       "      <th>Release_Date</th>\n",
       "      <th>Movie_Title</th>\n",
       "      <th>USD_Production_Budget</th>\n",
       "      <th>USD_Worldwide_Gross</th>\n",
       "      <th>USD_Domestic_Gross</th>\n",
       "      <th>Decade</th>\n",
       "    </tr>\n",
       "  </thead>\n",
       "  <tbody>\n",
       "    <tr>\n",
       "      <th>153</th>\n",
       "      <td>2159</td>\n",
       "      <td>1970-01-01</td>\n",
       "      <td>Waterloo</td>\n",
       "      <td>25000000</td>\n",
       "      <td>0</td>\n",
       "      <td>0</td>\n",
       "      <td>1970</td>\n",
       "    </tr>\n",
       "    <tr>\n",
       "      <th>154</th>\n",
       "      <td>2270</td>\n",
       "      <td>1970-01-01</td>\n",
       "      <td>Darling Lili</td>\n",
       "      <td>22000000</td>\n",
       "      <td>5000000</td>\n",
       "      <td>5000000</td>\n",
       "      <td>1970</td>\n",
       "    </tr>\n",
       "    <tr>\n",
       "      <th>155</th>\n",
       "      <td>3136</td>\n",
       "      <td>1970-01-01</td>\n",
       "      <td>Patton</td>\n",
       "      <td>12000000</td>\n",
       "      <td>62500000</td>\n",
       "      <td>62500000</td>\n",
       "      <td>1970</td>\n",
       "    </tr>\n",
       "    <tr>\n",
       "      <th>156</th>\n",
       "      <td>3277</td>\n",
       "      <td>1970-01-01</td>\n",
       "      <td>The Molly Maguires</td>\n",
       "      <td>11000000</td>\n",
       "      <td>2200000</td>\n",
       "      <td>2200000</td>\n",
       "      <td>1970</td>\n",
       "    </tr>\n",
       "    <tr>\n",
       "      <th>157</th>\n",
       "      <td>4265</td>\n",
       "      <td>1970-01-01</td>\n",
       "      <td>M*A*S*H</td>\n",
       "      <td>3500000</td>\n",
       "      <td>81600000</td>\n",
       "      <td>81600000</td>\n",
       "      <td>1970</td>\n",
       "    </tr>\n",
       "    <tr>\n",
       "      <th>...</th>\n",
       "      <td>...</td>\n",
       "      <td>...</td>\n",
       "      <td>...</td>\n",
       "      <td>...</td>\n",
       "      <td>...</td>\n",
       "      <td>...</td>\n",
       "      <td>...</td>\n",
       "    </tr>\n",
       "    <tr>\n",
       "      <th>5379</th>\n",
       "      <td>1295</td>\n",
       "      <td>2017-10-02</td>\n",
       "      <td>John Wick: Chapter Two</td>\n",
       "      <td>40000000</td>\n",
       "      <td>166893990</td>\n",
       "      <td>92029184</td>\n",
       "      <td>2010</td>\n",
       "    </tr>\n",
       "    <tr>\n",
       "      <th>5380</th>\n",
       "      <td>70</td>\n",
       "      <td>2017-10-03</td>\n",
       "      <td>Kong: Skull Island</td>\n",
       "      <td>185000000</td>\n",
       "      <td>561137727</td>\n",
       "      <td>168052812</td>\n",
       "      <td>2010</td>\n",
       "    </tr>\n",
       "    <tr>\n",
       "      <th>5381</th>\n",
       "      <td>94</td>\n",
       "      <td>2017-12-05</td>\n",
       "      <td>King Arthur: Legend of the Sword</td>\n",
       "      <td>175000000</td>\n",
       "      <td>140012608</td>\n",
       "      <td>39175066</td>\n",
       "      <td>2010</td>\n",
       "    </tr>\n",
       "    <tr>\n",
       "      <th>5382</th>\n",
       "      <td>1254</td>\n",
       "      <td>2017-12-05</td>\n",
       "      <td>Snatched</td>\n",
       "      <td>42000000</td>\n",
       "      <td>57850343</td>\n",
       "      <td>45850343</td>\n",
       "      <td>2010</td>\n",
       "    </tr>\n",
       "    <tr>\n",
       "      <th>5383</th>\n",
       "      <td>2521</td>\n",
       "      <td>2017-12-31</td>\n",
       "      <td>The Thousand Miles</td>\n",
       "      <td>20000000</td>\n",
       "      <td>0</td>\n",
       "      <td>0</td>\n",
       "      <td>2010</td>\n",
       "    </tr>\n",
       "  </tbody>\n",
       "</table>\n",
       "<p>5231 rows × 7 columns</p>\n",
       "</div>"
      ],
      "text/plain": [
       "      Rank Release_Date                       Movie_Title  \\\n",
       "153   2159   1970-01-01                          Waterloo   \n",
       "154   2270   1970-01-01                      Darling Lili   \n",
       "155   3136   1970-01-01                            Patton   \n",
       "156   3277   1970-01-01                The Molly Maguires   \n",
       "157   4265   1970-01-01                           M*A*S*H   \n",
       "...    ...          ...                               ...   \n",
       "5379  1295   2017-10-02            John Wick: Chapter Two   \n",
       "5380    70   2017-10-03                Kong: Skull Island   \n",
       "5381    94   2017-12-05  King Arthur: Legend of the Sword   \n",
       "5382  1254   2017-12-05                          Snatched   \n",
       "5383  2521   2017-12-31                The Thousand Miles   \n",
       "\n",
       "      USD_Production_Budget  USD_Worldwide_Gross  USD_Domestic_Gross  Decade  \n",
       "153                25000000                    0                   0    1970  \n",
       "154                22000000              5000000             5000000    1970  \n",
       "155                12000000             62500000            62500000    1970  \n",
       "156                11000000              2200000             2200000    1970  \n",
       "157                 3500000             81600000            81600000    1970  \n",
       "...                     ...                  ...                 ...     ...  \n",
       "5379               40000000            166893990            92029184    2010  \n",
       "5380              185000000            561137727           168052812    2010  \n",
       "5381              175000000            140012608            39175066    2010  \n",
       "5382               42000000             57850343            45850343    2010  \n",
       "5383               20000000                    0                   0    2010  \n",
       "\n",
       "[5231 rows x 7 columns]"
      ]
     },
     "execution_count": 136,
     "metadata": {},
     "output_type": "execute_result"
    }
   ],
   "source": [
    "new_films"
   ]
  },
  {
   "cell_type": "code",
   "execution_count": 137,
   "metadata": {},
   "outputs": [
    {
     "data": {
      "text/html": [
       "<div>\n",
       "<style scoped>\n",
       "    .dataframe tbody tr th:only-of-type {\n",
       "        vertical-align: middle;\n",
       "    }\n",
       "\n",
       "    .dataframe tbody tr th {\n",
       "        vertical-align: top;\n",
       "    }\n",
       "\n",
       "    .dataframe thead th {\n",
       "        text-align: right;\n",
       "    }\n",
       "</style>\n",
       "<table border=\"1\" class=\"dataframe\">\n",
       "  <thead>\n",
       "    <tr style=\"text-align: right;\">\n",
       "      <th></th>\n",
       "      <th>Rank</th>\n",
       "      <th>Release_Date</th>\n",
       "      <th>USD_Production_Budget</th>\n",
       "      <th>USD_Worldwide_Gross</th>\n",
       "      <th>USD_Domestic_Gross</th>\n",
       "      <th>Decade</th>\n",
       "    </tr>\n",
       "  </thead>\n",
       "  <tbody>\n",
       "    <tr>\n",
       "      <th>count</th>\n",
       "      <td>153.00</td>\n",
       "      <td>153</td>\n",
       "      <td>153.00</td>\n",
       "      <td>153.00</td>\n",
       "      <td>153.00</td>\n",
       "      <td>153.00</td>\n",
       "    </tr>\n",
       "    <tr>\n",
       "      <th>mean</th>\n",
       "      <td>4,274.77</td>\n",
       "      <td>1954-06-10 04:04:42.352941184</td>\n",
       "      <td>4,611,297.65</td>\n",
       "      <td>30,419,634.38</td>\n",
       "      <td>22,389,473.87</td>\n",
       "      <td>1,949.15</td>\n",
       "    </tr>\n",
       "    <tr>\n",
       "      <th>min</th>\n",
       "      <td>1,253.00</td>\n",
       "      <td>1915-08-02 00:00:00</td>\n",
       "      <td>100,000.00</td>\n",
       "      <td>0.00</td>\n",
       "      <td>0.00</td>\n",
       "      <td>1,910.00</td>\n",
       "    </tr>\n",
       "    <tr>\n",
       "      <th>25%</th>\n",
       "      <td>3,973.00</td>\n",
       "      <td>1946-01-01 00:00:00</td>\n",
       "      <td>1,250,000.00</td>\n",
       "      <td>5,273,000.00</td>\n",
       "      <td>5,000,000.00</td>\n",
       "      <td>1,940.00</td>\n",
       "    </tr>\n",
       "    <tr>\n",
       "      <th>50%</th>\n",
       "      <td>4,434.00</td>\n",
       "      <td>1956-12-23 00:00:00</td>\n",
       "      <td>2,900,000.00</td>\n",
       "      <td>10,000,000.00</td>\n",
       "      <td>10,000,000.00</td>\n",
       "      <td>1,950.00</td>\n",
       "    </tr>\n",
       "    <tr>\n",
       "      <th>75%</th>\n",
       "      <td>4,785.00</td>\n",
       "      <td>1964-10-22 00:00:00</td>\n",
       "      <td>5,000,000.00</td>\n",
       "      <td>33,208,099.00</td>\n",
       "      <td>28,350,000.00</td>\n",
       "      <td>1,960.00</td>\n",
       "    </tr>\n",
       "    <tr>\n",
       "      <th>max</th>\n",
       "      <td>5,299.00</td>\n",
       "      <td>1969-12-19 00:00:00</td>\n",
       "      <td>42,000,000.00</td>\n",
       "      <td>390,525,192.00</td>\n",
       "      <td>198,680,470.00</td>\n",
       "      <td>1,960.00</td>\n",
       "    </tr>\n",
       "    <tr>\n",
       "      <th>std</th>\n",
       "      <td>742.14</td>\n",
       "      <td>NaN</td>\n",
       "      <td>5,713,648.85</td>\n",
       "      <td>54,931,828.93</td>\n",
       "      <td>32,641,752.41</td>\n",
       "      <td>12.72</td>\n",
       "    </tr>\n",
       "  </tbody>\n",
       "</table>\n",
       "</div>"
      ],
      "text/plain": [
       "          Rank                   Release_Date  USD_Production_Budget  \\\n",
       "count   153.00                            153                 153.00   \n",
       "mean  4,274.77  1954-06-10 04:04:42.352941184           4,611,297.65   \n",
       "min   1,253.00            1915-08-02 00:00:00             100,000.00   \n",
       "25%   3,973.00            1946-01-01 00:00:00           1,250,000.00   \n",
       "50%   4,434.00            1956-12-23 00:00:00           2,900,000.00   \n",
       "75%   4,785.00            1964-10-22 00:00:00           5,000,000.00   \n",
       "max   5,299.00            1969-12-19 00:00:00          42,000,000.00   \n",
       "std     742.14                            NaN           5,713,648.85   \n",
       "\n",
       "       USD_Worldwide_Gross  USD_Domestic_Gross   Decade  \n",
       "count               153.00              153.00   153.00  \n",
       "mean         30,419,634.38       22,389,473.87 1,949.15  \n",
       "min                   0.00                0.00 1,910.00  \n",
       "25%           5,273,000.00        5,000,000.00 1,940.00  \n",
       "50%          10,000,000.00       10,000,000.00 1,950.00  \n",
       "75%          33,208,099.00       28,350,000.00 1,960.00  \n",
       "max         390,525,192.00      198,680,470.00 1,960.00  \n",
       "std          54,931,828.93       32,641,752.41    12.72  "
      ]
     },
     "execution_count": 137,
     "metadata": {},
     "output_type": "execute_result"
    }
   ],
   "source": [
    "old_films.describe()"
   ]
  },
  {
   "cell_type": "code",
   "execution_count": 138,
   "metadata": {},
   "outputs": [
    {
     "data": {
      "text/html": [
       "<div>\n",
       "<style scoped>\n",
       "    .dataframe tbody tr th:only-of-type {\n",
       "        vertical-align: middle;\n",
       "    }\n",
       "\n",
       "    .dataframe tbody tr th {\n",
       "        vertical-align: top;\n",
       "    }\n",
       "\n",
       "    .dataframe thead th {\n",
       "        text-align: right;\n",
       "    }\n",
       "</style>\n",
       "<table border=\"1\" class=\"dataframe\">\n",
       "  <thead>\n",
       "    <tr style=\"text-align: right;\">\n",
       "      <th></th>\n",
       "      <th>Rank</th>\n",
       "      <th>Release_Date</th>\n",
       "      <th>Movie_Title</th>\n",
       "      <th>USD_Production_Budget</th>\n",
       "      <th>USD_Worldwide_Gross</th>\n",
       "      <th>USD_Domestic_Gross</th>\n",
       "      <th>Decade</th>\n",
       "    </tr>\n",
       "  </thead>\n",
       "  <tbody>\n",
       "    <tr>\n",
       "      <th>109</th>\n",
       "      <td>1253</td>\n",
       "      <td>1963-12-06</td>\n",
       "      <td>Cleopatra</td>\n",
       "      <td>42000000</td>\n",
       "      <td>71000000</td>\n",
       "      <td>57000000</td>\n",
       "      <td>1960</td>\n",
       "    </tr>\n",
       "    <tr>\n",
       "      <th>150</th>\n",
       "      <td>2175</td>\n",
       "      <td>1969-12-16</td>\n",
       "      <td>Hello, Dolly</td>\n",
       "      <td>24000000</td>\n",
       "      <td>33208099</td>\n",
       "      <td>33208099</td>\n",
       "      <td>1960</td>\n",
       "    </tr>\n",
       "    <tr>\n",
       "      <th>143</th>\n",
       "      <td>2465</td>\n",
       "      <td>1969-01-01</td>\n",
       "      <td>Sweet Charity</td>\n",
       "      <td>20000000</td>\n",
       "      <td>8000000</td>\n",
       "      <td>8000000</td>\n",
       "      <td>1960</td>\n",
       "    </tr>\n",
       "    <tr>\n",
       "      <th>118</th>\n",
       "      <td>2425</td>\n",
       "      <td>1965-02-15</td>\n",
       "      <td>The Greatest Story Ever Told</td>\n",
       "      <td>20000000</td>\n",
       "      <td>15473333</td>\n",
       "      <td>15473333</td>\n",
       "      <td>1960</td>\n",
       "    </tr>\n",
       "    <tr>\n",
       "      <th>148</th>\n",
       "      <td>2375</td>\n",
       "      <td>1969-10-15</td>\n",
       "      <td>Paint Your Wagon</td>\n",
       "      <td>20000000</td>\n",
       "      <td>31678778</td>\n",
       "      <td>31678778</td>\n",
       "      <td>1960</td>\n",
       "    </tr>\n",
       "    <tr>\n",
       "      <th>110</th>\n",
       "      <td>2552</td>\n",
       "      <td>1964-01-01</td>\n",
       "      <td>The Fall of the Roman Empire</td>\n",
       "      <td>19000000</td>\n",
       "      <td>4750000</td>\n",
       "      <td>4750000</td>\n",
       "      <td>1960</td>\n",
       "    </tr>\n",
       "    <tr>\n",
       "      <th>98</th>\n",
       "      <td>2546</td>\n",
       "      <td>1962-08-11</td>\n",
       "      <td>Mutiny on The Bounty</td>\n",
       "      <td>19000000</td>\n",
       "      <td>13680000</td>\n",
       "      <td>13680000</td>\n",
       "      <td>1960</td>\n",
       "    </tr>\n",
       "    <tr>\n",
       "      <th>114</th>\n",
       "      <td>2670</td>\n",
       "      <td>1964-10-22</td>\n",
       "      <td>My Fair Lady</td>\n",
       "      <td>17000000</td>\n",
       "      <td>72070955</td>\n",
       "      <td>72000000</td>\n",
       "      <td>1960</td>\n",
       "    </tr>\n",
       "    <tr>\n",
       "      <th>102</th>\n",
       "      <td>2698</td>\n",
       "      <td>1963-01-01</td>\n",
       "      <td>55 Days at Peking</td>\n",
       "      <td>17000000</td>\n",
       "      <td>10000000</td>\n",
       "      <td>10000000</td>\n",
       "      <td>1960</td>\n",
       "    </tr>\n",
       "    <tr>\n",
       "      <th>125</th>\n",
       "      <td>2831</td>\n",
       "      <td>1966-10-10</td>\n",
       "      <td>Hawaii</td>\n",
       "      <td>15000000</td>\n",
       "      <td>34562222</td>\n",
       "      <td>34562222</td>\n",
       "      <td>1960</td>\n",
       "    </tr>\n",
       "  </tbody>\n",
       "</table>\n",
       "</div>"
      ],
      "text/plain": [
       "     Rank Release_Date                   Movie_Title  USD_Production_Budget  \\\n",
       "109  1253   1963-12-06                     Cleopatra               42000000   \n",
       "150  2175   1969-12-16                  Hello, Dolly               24000000   \n",
       "143  2465   1969-01-01                 Sweet Charity               20000000   \n",
       "118  2425   1965-02-15  The Greatest Story Ever Told               20000000   \n",
       "148  2375   1969-10-15              Paint Your Wagon               20000000   \n",
       "110  2552   1964-01-01  The Fall of the Roman Empire               19000000   \n",
       "98   2546   1962-08-11          Mutiny on The Bounty               19000000   \n",
       "114  2670   1964-10-22                  My Fair Lady               17000000   \n",
       "102  2698   1963-01-01             55 Days at Peking               17000000   \n",
       "125  2831   1966-10-10                        Hawaii               15000000   \n",
       "\n",
       "     USD_Worldwide_Gross  USD_Domestic_Gross  Decade  \n",
       "109             71000000            57000000    1960  \n",
       "150             33208099            33208099    1960  \n",
       "143              8000000             8000000    1960  \n",
       "118             15473333            15473333    1960  \n",
       "148             31678778            31678778    1960  \n",
       "110              4750000             4750000    1960  \n",
       "98              13680000            13680000    1960  \n",
       "114             72070955            72000000    1960  \n",
       "102             10000000            10000000    1960  \n",
       "125             34562222            34562222    1960  "
      ]
     },
     "execution_count": 138,
     "metadata": {},
     "output_type": "execute_result"
    }
   ],
   "source": [
    "old_films.sort_values('USD_Production_Budget', ascending = False).head(10)"
   ]
  },
  {
   "cell_type": "markdown",
   "metadata": {
    "id": "msXABzF3zW7e"
   },
   "source": [
    "# Seaborn Regression Plots"
   ]
  },
  {
   "cell_type": "code",
   "execution_count": 148,
   "metadata": {
    "id": "2ajPcWMJTsom"
   },
   "outputs": [
    {
     "data": {
      "image/png": "[encoded data removed]",
      "text/plain": [
       "<Figure size 2000x800 with 1 Axes>"
      ]
     },
     "metadata": {},
     "output_type": "display_data"
    }
   ],
   "source": [
    "plt.figure(figsize = (10,4), dpi=200)\n",
    "\n",
    "\n",
    "with sns.axes_style('whitegrid'):\n",
    "    ax = sns.regplot(data = old_films, \n",
    "                     x = 'USD_Production_Budget', \n",
    "                     y = 'USD_Worldwide_Gross', \n",
    "                     scatter_kws = {'alpha' : 0.4}, \n",
    "                     line_kws = {'color' : 'black'})"
   ]
  },
  {
   "cell_type": "markdown",
   "metadata": {
    "id": "6k4MeLmxWFwX"
   },
   "source": [
    "**Challenge**: Use Seaborn's `.regplot()` to show the scatter plot and linear regression line against the `new_films`. \n",
    "<br>\n",
    "<br>\n",
    "Style the chart\n",
    "\n",
    "* Put the chart on a `'darkgrid'`.\n",
    "* Set limits on the axes so that they don't show negative values.\n",
    "* Label the axes on the plot \"Revenue in \\$ billions\" and \"Budget in \\$ millions\".\n",
    "* Provide HEX colour codes for the plot and the regression line. Make the dots dark blue (#2f4b7c) and the line orange (#ff7c43).\n",
    "\n",
    "Interpret the chart\n",
    "\n",
    "* Do our data points for the new films align better or worse with the linear regression than for our older films?\n",
    "* Roughly how much would a film with a budget of $150 million make according to the regression line?"
   ]
  },
  {
   "cell_type": "code",
   "execution_count": 152,
   "metadata": {
    "id": "6cOVsxqvTui2"
   },
   "outputs": [
    {
     "data": {
      "image/png": "[encoded data removed]",
      "text/plain": [
       "<Figure size 2000x800 with 1 Axes>"
      ]
     },
     "metadata": {},
     "output_type": "display_data"
    }
   ],
   "source": [
    "plt.figure(figsize = (10,4), dpi=200)\n",
    "\n",
    "\n",
    "with sns.axes_style('darkgrid'):\n",
    "    ax = sns.regplot(data = new_films, \n",
    "                     x = 'USD_Production_Budget', \n",
    "                     y = 'USD_Worldwide_Gross', \n",
    "                     color = '#2f4b7c',\n",
    "                     scatter_kws = {'alpha' : 0.4}, \n",
    "                     line_kws = {'color' : '#ff7c43'})\n",
    "    \n",
    "    ax.set(ylim = (0, 3000000000),\n",
    "           xlim = (0, 450000000),\n",
    "           ylabel = 'Revenue in $ Billions',\n",
    "           xlabel = 'Budget in $100 Millions')"
   ]
  },
  {
   "cell_type": "markdown",
   "metadata": {
    "id": "Q1SUPPMAzlVK"
   },
   "source": [
    "# Run Your Own Regression with scikit-learn\n",
    "\n",
    "$$ REV \\hat ENUE = \\theta _0 + \\theta _1 BUDGET$$"
   ]
  },
  {
   "cell_type": "code",
   "execution_count": 153,
   "metadata": {
    "id": "QmX-wMMLTwBW"
   },
   "outputs": [],
   "source": [
    "from sklearn.linear_model import LinearRegression"
   ]
  },
  {
   "cell_type": "markdown",
   "metadata": {
    "id": "o23E9iT1RHQ1"
   },
   "source": [
    "**Challenge**: Run a linear regression for the `old_films`. Calculate the intercept, slope and r-squared. How much of the variance in movie revenue does the linear model explain in this case?"
   ]
  },
  {
   "cell_type": "code",
   "execution_count": 154,
   "metadata": {
    "id": "Sd43DJNDT0yQ"
   },
   "outputs": [],
   "source": [
    "regression = LinearRegression()"
   ]
  },
  {
   "cell_type": "markdown",
   "metadata": {
    "id": "ygKsLBx5Rs7t"
   },
   "source": [
    "### Explanatory variable or Feature in ML"
   ]
  },
  {
   "cell_type": "code",
   "execution_count": 156,
   "metadata": {},
   "outputs": [],
   "source": [
    "X = pd.DataFrame(new_films, columns = ['USD_Production_Budget'])"
   ]
  },
  {
   "cell_type": "markdown",
   "metadata": {},
   "source": [
    "### Response variable or Target in ML\n"
   ]
  },
  {
   "cell_type": "code",
   "execution_count": 157,
   "metadata": {},
   "outputs": [],
   "source": [
    "y = pd.DataFrame(new_films, columns = ['USD_Worldwide_Gross'])"
   ]
  },
  {
   "cell_type": "markdown",
   "metadata": {},
   "source": [
    "### We created DataFrames because LinearRegression doesn't like to receive Pandas Series"
   ]
  },
  {
   "cell_type": "markdown",
   "metadata": {},
   "source": [
    "# Find the best fit line"
   ]
  },
  {
   "cell_type": "code",
   "execution_count": 160,
   "metadata": {},
   "outputs": [
    {
     "data": {
      "text/html": [
       "<style>#sk-container-id-1 {color: black;background-color: white;}#sk-container-id-1 pre{padding: 0;}#sk-container-id-1 div.sk-toggleable {background-color: white;}#sk-container-id-1 label.sk-toggleable__label {cursor: pointer;display: block;width: 100%;margin-bottom: 0;padding: 0.3em;box-sizing: border-box;text-align: center;}#sk-container-id-1 label.sk-toggleable__label-arrow:before {content: \"▸\";float: left;margin-right: 0.25em;color: #696969;}#sk-container-id-1 label.sk-toggleable__label-arrow:hover:before {color: black;}#sk-container-id-1 div.sk-estimator:hover label.sk-toggleable__label-arrow:before {color: black;}#sk-container-id-1 div.sk-toggleable__content {max-height: 0;max-width: 0;overflow: hidden;text-align: left;background-color: #f0f8ff;}#sk-container-id-1 div.sk-toggleable__content pre {margin: 0.2em;color: black;border-radius: 0.25em;background-color: #f0f8ff;}#sk-container-id-1 input.sk-toggleable__control:checked~div.sk-toggleable__content {max-height: 200px;max-width: 100%;overflow: auto;}#sk-container-id-1 input.sk-toggleable__control:checked~label.sk-toggleable__label-arrow:before {content: \"▾\";}#sk-container-id-1 div.sk-estimator input.sk-toggleable__control:checked~label.sk-toggleable__label {background-color: #d4ebff;}#sk-container-id-1 div.sk-label input.sk-toggleable__control:checked~label.sk-toggleable__label {background-color: #d4ebff;}#sk-container-id-1 input.sk-hidden--visually {border: 0;clip: rect(1px 1px 1px 1px);clip: rect(1px, 1px, 1px, 1px);height: 1px;margin: -1px;overflow: hidden;padding: 0;position: absolute;width: 1px;}#sk-container-id-1 div.sk-estimator {font-family: monospace;background-color: #f0f8ff;border: 1px dotted black;border-radius: 0.25em;box-sizing: border-box;margin-bottom: 0.5em;}#sk-container-id-1 div.sk-estimator:hover {background-color: #d4ebff;}#sk-container-id-1 div.sk-parallel-item::after {content: \"\";width: 100%;border-bottom: 1px solid gray;flex-grow: 1;}#sk-container-id-1 div.sk-label:hover label.sk-toggleable__label {background-color: #d4ebff;}#sk-container-id-1 div.sk-serial::before {content: \"\";position: absolute;border-left: 1px solid gray;box-sizing: border-box;top: 0;bottom: 0;left: 50%;z-index: 0;}#sk-container-id-1 div.sk-serial {display: flex;flex-direction: column;align-items: center;background-color: white;padding-right: 0.2em;padding-left: 0.2em;position: relative;}#sk-container-id-1 div.sk-item {position: relative;z-index: 1;}#sk-container-id-1 div.sk-parallel {display: flex;align-items: stretch;justify-content: center;background-color: white;position: relative;}#sk-container-id-1 div.sk-item::before, #sk-container-id-1 div.sk-parallel-item::before {content: \"\";position: absolute;border-left: 1px solid gray;box-sizing: border-box;top: 0;bottom: 0;left: 50%;z-index: -1;}#sk-container-id-1 div.sk-parallel-item {display: flex;flex-direction: column;z-index: 1;position: relative;background-color: white;}#sk-container-id-1 div.sk-parallel-item:first-child::after {align-self: flex-end;width: 50%;}#sk-container-id-1 div.sk-parallel-item:last-child::after {align-self: flex-start;width: 50%;}#sk-container-id-1 div.sk-parallel-item:only-child::after {width: 0;}#sk-container-id-1 div.sk-dashed-wrapped {border: 1px dashed gray;margin: 0 0.4em 0.5em 0.4em;box-sizing: border-box;padding-bottom: 0.4em;background-color: white;}#sk-container-id-1 div.sk-label label {font-family: monospace;font-weight: bold;display: inline-block;line-height: 1.2em;}#sk-container-id-1 div.sk-label-container {text-align: center;}#sk-container-id-1 div.sk-container {/* jupyter's `normalize.less` sets `[hidden] { display: none; }` but bootstrap.min.css set `[hidden] { display: none !important; }` so we also need the `!important` here to be able to override the default hidden behavior on the sphinx rendered scikit-learn.org. See: https://github.com/scikit-learn/scikit-learn/issues/21755 */display: inline-block !important;position: relative;}#sk-container-id-1 div.sk-text-repr-fallback {display: none;}</style><div id=\"sk-container-id-1\" class=\"sk-top-container\"><div class=\"sk-text-repr-fallback\"><pre>LinearRegression()</pre><b>In a Jupyter environment, please rerun this cell to show the HTML representation or trust the notebook. <br />On GitHub, the HTML representation is unable to render, please try loading this page with nbviewer.org.</b></div><div class=\"sk-container\" hidden><div class=\"sk-item\"><div class=\"sk-estimator sk-toggleable\"><input class=\"sk-toggleable__control sk-hidden--visually\" id=\"sk-estimator-id-1\" type=\"checkbox\" checked><label for=\"sk-estimator-id-1\" class=\"sk-toggleable__label sk-toggleable__label-arrow\">LinearRegression</label><div class=\"sk-toggleable__content\"><pre>LinearRegression()</pre></div></div></div></div></div>"
      ],
      "text/plain": [
       "LinearRegression()"
      ]
     },
     "execution_count": 160,
     "metadata": {},
     "output_type": "execute_result"
    }
   ],
   "source": [
    "regression.fit(X, y)"
   ]
  },
  {
   "cell_type": "code",
   "execution_count": 163,
   "metadata": {},
   "outputs": [
    {
     "data": {
      "text/plain": [
       "array([-8650768.00661042])"
      ]
     },
     "execution_count": 163,
     "metadata": {},
     "output_type": "execute_result"
    }
   ],
   "source": [
    "regression.intercept_    #Theta zero"
   ]
  },
  {
   "cell_type": "code",
   "execution_count": 164,
   "metadata": {},
   "outputs": [
    {
     "data": {
      "text/plain": [
       "array([[3.12259592]])"
      ]
     },
     "execution_count": 164,
     "metadata": {},
     "output_type": "execute_result"
    }
   ],
   "source": [
    "regression.coef_         #Theta one"
   ]
  },
  {
   "cell_type": "code",
   "execution_count": 168,
   "metadata": {},
   "outputs": [
    {
     "data": {
      "text/plain": [
       "0.5577032617720403"
      ]
     },
     "execution_count": 168,
     "metadata": {},
     "output_type": "execute_result"
    }
   ],
   "source": [
    "regression.score(X, y)   #R²"
   ]
  },
  {
   "cell_type": "markdown",
   "metadata": {},
   "source": [
    "Our model explains about 56% of the variance in movie revenue."
   ]
  },
  {
   "cell_type": "markdown",
   "metadata": {},
   "source": [
    "## We are going to run a LinearRegression model for the old_films\n",
    " Calculate the intercept, slope and r-squared.\n",
    " How much of the variance in movie revenue does the linear model explain in this case?"
   ]
  },
  {
   "cell_type": "code",
   "execution_count": 169,
   "metadata": {},
   "outputs": [],
   "source": [
    "X = pd.DataFrame(old_films, columns = ['USD_Production_Budget'])\n",
    "y = pd.DataFrame(old_films, columns = ['USD_Worldwide_Gross'])"
   ]
  },
  {
   "cell_type": "code",
   "execution_count": 170,
   "metadata": {},
   "outputs": [
    {
     "data": {
      "text/html": [
       "<style>#sk-container-id-2 {color: black;background-color: white;}#sk-container-id-2 pre{padding: 0;}#sk-container-id-2 div.sk-toggleable {background-color: white;}#sk-container-id-2 label.sk-toggleable__label {cursor: pointer;display: block;width: 100%;margin-bottom: 0;padding: 0.3em;box-sizing: border-box;text-align: center;}#sk-container-id-2 label.sk-toggleable__label-arrow:before {content: \"▸\";float: left;margin-right: 0.25em;color: #696969;}#sk-container-id-2 label.sk-toggleable__label-arrow:hover:before {color: black;}#sk-container-id-2 div.sk-estimator:hover label.sk-toggleable__label-arrow:before {color: black;}#sk-container-id-2 div.sk-toggleable__content {max-height: 0;max-width: 0;overflow: hidden;text-align: left;background-color: #f0f8ff;}#sk-container-id-2 div.sk-toggleable__content pre {margin: 0.2em;color: black;border-radius: 0.25em;background-color: #f0f8ff;}#sk-container-id-2 input.sk-toggleable__control:checked~div.sk-toggleable__content {max-height: 200px;max-width: 100%;overflow: auto;}#sk-container-id-2 input.sk-toggleable__control:checked~label.sk-toggleable__label-arrow:before {content: \"▾\";}#sk-container-id-2 div.sk-estimator input.sk-toggleable__control:checked~label.sk-toggleable__label {background-color: #d4ebff;}#sk-container-id-2 div.sk-label input.sk-toggleable__control:checked~label.sk-toggleable__label {background-color: #d4ebff;}#sk-container-id-2 input.sk-hidden--visually {border: 0;clip: rect(1px 1px 1px 1px);clip: rect(1px, 1px, 1px, 1px);height: 1px;margin: -1px;overflow: hidden;padding: 0;position: absolute;width: 1px;}#sk-container-id-2 div.sk-estimator {font-family: monospace;background-color: #f0f8ff;border: 1px dotted black;border-radius: 0.25em;box-sizing: border-box;margin-bottom: 0.5em;}#sk-container-id-2 div.sk-estimator:hover {background-color: #d4ebff;}#sk-container-id-2 div.sk-parallel-item::after {content: \"\";width: 100%;border-bottom: 1px solid gray;flex-grow: 1;}#sk-container-id-2 div.sk-label:hover label.sk-toggleable__label {background-color: #d4ebff;}#sk-container-id-2 div.sk-serial::before {content: \"\";position: absolute;border-left: 1px solid gray;box-sizing: border-box;top: 0;bottom: 0;left: 50%;z-index: 0;}#sk-container-id-2 div.sk-serial {display: flex;flex-direction: column;align-items: center;background-color: white;padding-right: 0.2em;padding-left: 0.2em;position: relative;}#sk-container-id-2 div.sk-item {position: relative;z-index: 1;}#sk-container-id-2 div.sk-parallel {display: flex;align-items: stretch;justify-content: center;background-color: white;position: relative;}#sk-container-id-2 div.sk-item::before, #sk-container-id-2 div.sk-parallel-item::before {content: \"\";position: absolute;border-left: 1px solid gray;box-sizing: border-box;top: 0;bottom: 0;left: 50%;z-index: -1;}#sk-container-id-2 div.sk-parallel-item {display: flex;flex-direction: column;z-index: 1;position: relative;background-color: white;}#sk-container-id-2 div.sk-parallel-item:first-child::after {align-self: flex-end;width: 50%;}#sk-container-id-2 div.sk-parallel-item:last-child::after {align-self: flex-start;width: 50%;}#sk-container-id-2 div.sk-parallel-item:only-child::after {width: 0;}#sk-container-id-2 div.sk-dashed-wrapped {border: 1px dashed gray;margin: 0 0.4em 0.5em 0.4em;box-sizing: border-box;padding-bottom: 0.4em;background-color: white;}#sk-container-id-2 div.sk-label label {font-family: monospace;font-weight: bold;display: inline-block;line-height: 1.2em;}#sk-container-id-2 div.sk-label-container {text-align: center;}#sk-container-id-2 div.sk-container {/* jupyter's `normalize.less` sets `[hidden] { display: none; }` but bootstrap.min.css set `[hidden] { display: none !important; }` so we also need the `!important` here to be able to override the default hidden behavior on the sphinx rendered scikit-learn.org. See: https://github.com/scikit-learn/scikit-learn/issues/21755 */display: inline-block !important;position: relative;}#sk-container-id-2 div.sk-text-repr-fallback {display: none;}</style><div id=\"sk-container-id-2\" class=\"sk-top-container\"><div class=\"sk-text-repr-fallback\"><pre>LinearRegression()</pre><b>In a Jupyter environment, please rerun this cell to show the HTML representation or trust the notebook. <br />On GitHub, the HTML representation is unable to render, please try loading this page with nbviewer.org.</b></div><div class=\"sk-container\" hidden><div class=\"sk-item\"><div class=\"sk-estimator sk-toggleable\"><input class=\"sk-toggleable__control sk-hidden--visually\" id=\"sk-estimator-id-2\" type=\"checkbox\" checked><label for=\"sk-estimator-id-2\" class=\"sk-toggleable__label sk-toggleable__label-arrow\">LinearRegression</label><div class=\"sk-toggleable__content\"><pre>LinearRegression()</pre></div></div></div></div></div>"
      ],
      "text/plain": [
       "LinearRegression()"
      ]
     },
     "execution_count": 170,
     "metadata": {},
     "output_type": "execute_result"
    }
   ],
   "source": [
    "regression.fit(X, y)"
   ]
  },
  {
   "cell_type": "code",
   "execution_count": 174,
   "metadata": {},
   "outputs": [
    {
     "data": {
      "text/plain": [
       "array([22821538.63508039])"
      ]
     },
     "execution_count": 174,
     "metadata": {},
     "output_type": "execute_result"
    }
   ],
   "source": [
    "regression.intercept_"
   ]
  },
  {
   "cell_type": "code",
   "execution_count": 172,
   "metadata": {},
   "outputs": [
    {
     "data": {
      "text/plain": [
       "array([[1.64771314]])"
      ]
     },
     "execution_count": 172,
     "metadata": {},
     "output_type": "execute_result"
    }
   ],
   "source": [
    "regression.coef_"
   ]
  },
  {
   "cell_type": "code",
   "execution_count": 173,
   "metadata": {},
   "outputs": [
    {
     "data": {
      "text/plain": [
       "0.02937258620576877"
      ]
     },
     "execution_count": 173,
     "metadata": {},
     "output_type": "execute_result"
    }
   ],
   "source": [
    "regression.score(X, y)"
   ]
  },
  {
   "cell_type": "code",
   "execution_count": 181,
   "metadata": {},
   "outputs": [
    {
     "name": "stdout",
     "output_type": "stream",
     "text": [
      "The intercept is : [22821538.63508039]\n",
      "The slope is : [[1.64771314]]\n",
      "The R² is : 0.02937258620576877\n",
      "That means our model explains 3% of the variance in movie revenue.\n"
     ]
    }
   ],
   "source": [
    "print(f'The intercept is : {regression.intercept_}')\n",
    "print(f'The slope is : {regression.coef_}')\n",
    "print(f'The R² is : {regression.score(X, y)}')\n",
    "print(f'That means our model explains {round(regression.score(X, y) * 100)}% of the variance in movie revenue.')"
   ]
  },
  {
   "cell_type": "markdown",
   "metadata": {
    "id": "hoD3PeG75p78"
   },
   "source": [
    "# Use Your Model to Make a Prediction\n",
    "\n",
    "We just estimated the slope and intercept! Remember that our Linear Model has the following form:\n",
    "\n",
    "$$ REV \\hat ENUE = \\theta _0 + \\theta _1 BUDGET$$\n",
    "\n",
    "**Challenge**:  How much global revenue does our model estimate for a film with a budget of $350 million? "
   ]
  },
  {
   "cell_type": "code",
   "execution_count": 233,
   "metadata": {
    "id": "fX4I4h5i5rgF"
   },
   "outputs": [],
   "source": [
    "budget = 350000000"
   ]
  },
  {
   "cell_type": "code",
   "execution_count": 234,
   "metadata": {
    "id": "fB2Yp8ln5qfO"
   },
   "outputs": [],
   "source": [
    "revenue_estimate = regression.intercept_[0] + regression.coef_[0,0] * budget"
   ]
  },
  {
   "cell_type": "code",
   "execution_count": 235,
   "metadata": {},
   "outputs": [
    {
     "data": {
      "text/plain": [
       "599521139.0388364"
      ]
     },
     "execution_count": 235,
     "metadata": {},
     "output_type": "execute_result"
    }
   ],
   "source": [
    "revenue_estimate"
   ]
  },
  {
   "cell_type": "code",
   "execution_count": 236,
   "metadata": {},
   "outputs": [],
   "source": [
    "revenue_estimate = round(revenue_estimate, -6)   # me to -6 can round stin 6h taxi aristera tis ypodiastolis. Sto ekatommyrio dld, 10^6"
   ]
  },
  {
   "cell_type": "code",
   "execution_count": 237,
   "metadata": {},
   "outputs": [
    {
     "data": {
      "text/plain": [
       "600000000.0"
      ]
     },
     "execution_count": 237,
     "metadata": {},
     "output_type": "execute_result"
    }
   ],
   "source": [
    "\n",
    "revenue_estimate"
   ]
  },
  {
   "cell_type": "code",
   "execution_count": 238,
   "metadata": {},
   "outputs": [
    {
     "name": "stdout",
     "output_type": "stream",
     "text": [
      "The revenue estimate for a movie with a budget of $350000000 is expected to be around $600000000.0\n"
     ]
    }
   ],
   "source": [
    "print(f'The revenue estimate for a movie with a budget of ${budget} is expected to be around ${revenue_estimate:.10}')"
   ]
  }
 ],
 "metadata": {
  "colab": {
   "name": "Seaborn and Linear Regression (start).ipynb",
   "provenance": []
  },
  "kernelspec": {
   "display_name": "Python 3 (ipykernel)",
   "language": "python",
   "name": "python3"
  },
  "language_info": {
   "codemirror_mode": {
    "name": "ipython",
    "version": 3
   },
   "file_extension": ".py",
   "mimetype": "text/x-python",
   "name": "python",
   "nbconvert_exporter": "python",
   "pygments_lexer": "ipython3",
   "version": "3.11.4"
  }
 },
 "nbformat": 4,
 "nbformat_minor": 1
}
